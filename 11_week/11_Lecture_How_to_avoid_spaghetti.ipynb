{
 "cells": [
  {
   "cell_type": "markdown",
   "metadata": {},
   "source": [
    "# How to code and Polars DataFrames\n",
    "\n",
    "Lecture, April 28, 2025"
   ]
  },
  {
   "cell_type": "markdown",
   "metadata": {},
   "source": [
    "## Part 1: how to code and avoid spaghetti code\n",
    "\n",
    "**What is Spaghetti Code?**\n",
    "\n",
    "Spaghetti code refers to tangled, poorly structured code that is difficult to understand or maintain. It typically lacks logical organization, relies heavily on interdependent sections, and makes debugging and scaling complex.\n",
    "\n",
    "**Symptoms of Spaghetti Code:**\n",
    "\n",
    "- Long, unstructured scripts without functions or classes.\n",
    "- Code with deep nesting of `if`, `for`, or `while` blocks.\n",
    "- Repeated patterns instead of reusable functions.\n",
    "- Lack of comments or documentation.\n",
    "\n",
    "**Why is it a Problem in Data Processing?**\n",
    "\n",
    "- **Data Volume Increases Complexity**: As datasets grow larger, unstructured code becomes harder to debug.\n",
    "- **Collaboration Challenges**: Team members may struggle to understand or contribute to tangled code.\n",
    "- **Risk of Bugs**: A minor change can introduce unpredictable side effects."
   ]
  },
  {
   "cell_type": "markdown",
   "metadata": {},
   "source": [
    "**Q:**\n",
    "\n",
    "- What is the DRY principle?\n",
    "- When can be spaghetti code good?"
   ]
  },
  {
   "cell_type": "markdown",
   "metadata": {},
   "source": [
    "**Short Demonstration:**\n",
    "\n",
    "Spaghetti code example for processing a dataset:"
   ]
  },
  {
   "cell_type": "code",
   "execution_count": null,
   "metadata": {},
   "outputs": [],
   "source": [
    "data = [1, 2, 3, 4, 5]\n",
    "results = []\n",
    "for i in range(len(data)):\n",
    "    if data[i] % 2 == 0:\n",
    "        results.append(data[i] * 2)\n",
    "    else:\n",
    "        results.append(data[i] + 3)\n",
    "print(results)"
   ]
  },
  {
   "cell_type": "markdown",
   "metadata": {},
   "source": [
    "**Q:** What makes this code hard to read or maintain?"
   ]
  },
  {
   "cell_type": "markdown",
   "metadata": {},
   "source": [
    "## Prior notes to help with coding\n",
    "\n",
    "- Minimal arguments: `def func_run(x, y, z, another, anotherx, ano, why_this):`\n",
    "- Logical separation: white spaces, empty lines, functions related to each other close \n",
    "- Extraction of subrutines\n",
    "- Type arguments `x: list` , `x : pd.DataFrame`\n",
    "- Name conventions"
   ]
  },
  {
   "cell_type": "markdown",
   "metadata": {},
   "source": [
    "## Core Principles of Clean Coding\n",
    "\n",
    "**2.1 Code Readability:**\n",
    "\n",
    "- Follow [PEP 8 standards](https://peps.python.org/pep-0008/), or [realpython pep8](https://realpython.com/python-pep8/):\n",
    "    - Indentation: Use 4 spaces per level.\n",
    "    - Line length: Limit to 79 characters.\n",
    "    - Use meaningful variable names: `data` instead of `x`, `process_even` instead of `pe`.\n",
    "- Keep logic simple and intuitive. Avoid over-engineering solutions.\n",
    "- Add comments where necessary:"
   ]
  },
  {
   "cell_type": "markdown",
   "metadata": {},
   "source": [
    "Proper indentation"
   ]
  },
  {
   "cell_type": "code",
   "execution_count": null,
   "metadata": {},
   "outputs": [],
   "source": [
    "x = 1"
   ]
  },
  {
   "cell_type": "code",
   "execution_count": null,
   "metadata": {},
   "outputs": [],
   "source": [
    "# Bad indentation:\n",
    "if x>10:\n",
    " print(\"x is large\")\n",
    "\n",
    "# Correct indentation:\n",
    "if x > 10:\n",
    "    print(\"x is large\")"
   ]
  },
  {
   "cell_type": "markdown",
   "metadata": {},
   "source": [
    "White space clarity"
   ]
  },
  {
   "cell_type": "code",
   "execution_count": null,
   "metadata": {},
   "outputs": [],
   "source": [
    "x = 1+2*3 # Hard to read\n",
    "x = 1 + 2 * 3 # Easier to read"
   ]
  },
  {
   "cell_type": "markdown",
   "metadata": {},
   "source": [
    "**2.2 Modularity:**\n",
    "\n",
    "- Decompose tasks into logical parts using functions, classes, and modules.\n",
    "- Aim for functions to perform a single responsibility."
   ]
  },
  {
   "cell_type": "code",
   "execution_count": null,
   "metadata": {},
   "outputs": [],
   "source": [
    "def calculate_area(radius):\n",
    "    \"\"\"Calculate the area of a circle.\"\"\"\n",
    "    return 3.14 * radius**2"
   ]
  },
  {
   "cell_type": "markdown",
   "metadata": {},
   "source": [
    "**2.3 DRY Principle (Don't Repeat Yourself):**\n",
    "\n",
    "- Avoid duplicating logic; instead, reuse functions.\n",
    "- Example:"
   ]
  },
  {
   "cell_type": "code",
   "execution_count": null,
   "metadata": {},
   "outputs": [],
   "source": [
    "data = [1, 2, 3, 4, 5]"
   ]
  },
  {
   "cell_type": "code",
   "execution_count": null,
   "metadata": {},
   "outputs": [],
   "source": [
    "# BAD: Repeated logic\n",
    "total_odd = sum(x for x in data if x % 2 != 0)\n",
    "total_even = sum(x for x in data if x % 2 == 0)"
   ]
  },
  {
   "cell_type": "code",
   "execution_count": null,
   "metadata": {},
   "outputs": [],
   "source": [
    "# GOOD: Refactor into a reusable function\n",
    "def calculate_sum(data, condition):\n",
    "    \"\"\"\n",
    "    Calculate the sum of elements in a list that satisfy a given condition.\n",
    "\n",
    "    Args:\n",
    "        data (list): A list of numerical values.\n",
    "        condition (function): A function that takes a single argument and returns a boolean.\n",
    "                              The function is used to test each element in the list.\n",
    "\n",
    "    Returns:\n",
    "        int or float: The sum of elements that satisfy the condition.\n",
    "    \"\"\"\n",
    "    return sum(x for x in data if condition(x))\n",
    "\n",
    "total_odd = calculate_sum(data, lambda x: x % 2 != 0)\n",
    "total_even = calculate_sum(data, lambda x: x % 2 == 0)"
   ]
  },
  {
   "cell_type": "markdown",
   "metadata": {},
   "source": [
    "**2.4 Naming Conventions:**\n",
    "\n",
    "- Variables: `lowercase_with_underscores`. Example: `student_scores`.\n",
    "- Functions: Verb-based, descriptive. Example: `fetch_data_from_api`.\n",
    "- Constants: `ALL_CAPS`. Example: `PI = 3.14`."
   ]
  },
  {
   "cell_type": "markdown",
   "metadata": {},
   "source": [
    "**2.5 Documentation:**\n",
    "\n",
    "- Use docstrings for functions, classes, and modules.\n",
    "Example:"
   ]
  },
  {
   "cell_type": "code",
   "execution_count": null,
   "metadata": {},
   "outputs": [],
   "source": [
    "def calculate_area(radius: float) -> float:\n",
    "    \"\"\"\n",
    "    Calculate the area of a circle given its radius.\n",
    "\n",
    "    Args:\n",
    "    radius (float): The radius of the circle.\n",
    "\n",
    "    Returns:\n",
    "    float: The area of the circle.\n",
    "    \"\"\"\n",
    "    return 3.14 * radius**2"
   ]
  },
  {
   "cell_type": "code",
   "execution_count": null,
   "metadata": {},
   "outputs": [],
   "source": [
    "calculate_area(1)"
   ]
  },
  {
   "cell_type": "markdown",
   "metadata": {},
   "source": [
    "## Practical Techniques to Avoid Spaghetti Code\n",
    "\n",
    "**3.1 Structuring Projects:**\n",
    "\n",
    "- Folder structure for a data processing project:\n",
    "    \n",
    "    ```bash\n",
    "    project/\n",
    "        data/            # Raw and processed data files\n",
    "            raw/\n",
    "            processed/\n",
    "        src/         # Python scripts\n",
    "            preproces.py\n",
    "            analyze.py\n",
    "        tests/           # Unit tests\n",
    "        main.py          # Entry point\n",
    "        README.md        # Documentation\n",
    "    \n",
    "    ```\n",
    "    "
   ]
  },
  {
   "cell_type": "markdown",
   "metadata": {},
   "source": [
    "**3.2 Breaking Down Tasks:**\n",
    "\n",
    "- Instead of long scripts, divide the logic:"
   ]
  },
  {
   "cell_type": "code",
   "execution_count": null,
   "metadata": {},
   "outputs": [],
   "source": [
    "def load_data(filepath):\n",
    "    \"\"\"Load data from a CSV file.\"\"\"\n",
    "    pass\n",
    "\n",
    "def preprocess_data(data):\n",
    "    \"\"\"Clean and prepare data.\"\"\"\n",
    "    pass\n",
    "\n",
    "def analyze_data(data):\n",
    "    \"\"\"Perform analysis.\"\"\"\n",
    "    pass\n",
    "\n",
    "if __name__ == \"__main__\":\n",
    "    filepath = \"data.csv\"\n",
    "    raw_data = load_data(filepath)\n",
    "    processed_data = preprocess_data(raw_data)\n",
    "    analysis = analyze_data(processed_data)"
   ]
  },
  {
   "cell_type": "markdown",
   "metadata": {},
   "source": [
    "**3.3 Using Type Hints and Annotations:**\n",
    "\n",
    "- Improve clarity and reduce bugs:"
   ]
  },
  {
   "cell_type": "code",
   "execution_count": null,
   "metadata": {},
   "outputs": [],
   "source": [
    "def load_data(filepath: str) -> list[dict]:\n",
    "    \"\"\"Load data from a JSON file.\"\"\"\n",
    "    pass"
   ]
  },
  {
   "cell_type": "markdown",
   "metadata": {},
   "source": [
    "**3.4 Error Handling:**\n",
    "\n",
    "- Add meaningful error messages:"
   ]
  },
  {
   "cell_type": "code",
   "execution_count": null,
   "metadata": {},
   "outputs": [],
   "source": [
    "try:\n",
    "    with open(\"data.csv\") as f:\n",
    "        data = f.readlines()\n",
    "except FileNotFoundError:\n",
    "    print(\"Error: File not found. Check the filepath.\")"
   ]
  },
  {
   "cell_type": "markdown",
   "metadata": {},
   "source": [
    "## Example Code Walkthrough\n",
    "\n",
    "**Scenario:** Process a list of numbers, doubling evens and adding 3 to odds.\n",
    "\n",
    "**Spaghetti Code:**"
   ]
  },
  {
   "cell_type": "code",
   "execution_count": null,
   "metadata": {},
   "outputs": [],
   "source": [
    "data = [1, 2, 3, 4, 5]\n",
    "results = []\n",
    "for num in data:\n",
    "    if num % 2 == 0:\n",
    "        results.append(num * 2)\n",
    "    else:\n",
    "        results.append(num + 3)\n",
    "print(results)"
   ]
  },
  {
   "cell_type": "markdown",
   "metadata": {},
   "source": [
    "**Refactored Code:**"
   ]
  },
  {
   "cell_type": "code",
   "execution_count": null,
   "metadata": {},
   "outputs": [],
   "source": [
    "# Extract the logic into a function\n",
    "\n",
    "\n",
    "# Extract conditions into functions\n",
    "def process_even(number: int) -> int:\n",
    "    \"\"\"Double the input number if it is even.\"\"\"\n",
    "    return number * 2\n",
    "\n",
    "\n",
    "def process_odd(number: int) -> int:\n",
    "    \"\"\"Add 3 to the input number if it is odd.\"\"\"\n",
    "    return number + 3\n",
    "\n",
    "\n",
    "# Modularize the logic\n",
    "def process_numbers(numbers: list[int]) -> list[int]:\n",
    "    \"\"\"Process a list of numbers, doubling evens and adding 3 to odds.\"\"\"\n",
    "    return [process_even(num) if num % 2 == 0 else process_odd(num) for num in numbers]"
   ]
  },
  {
   "cell_type": "code",
   "execution_count": null,
   "metadata": {},
   "outputs": [],
   "source": [
    "if __name__ == \"__main__\":\n",
    "    data = [1, 2, 3, 4, 5]\n",
    "    print(process_numbers(data))"
   ]
  },
  {
   "cell_type": "markdown",
   "metadata": {},
   "source": [
    "**Can we do it even better?**"
   ]
  },
  {
   "cell_type": "code",
   "execution_count": null,
   "metadata": {},
   "outputs": [],
   "source": [
    "def process_number(num):\n",
    "    return num * 2 if num % 2 == 0 else num + 3"
   ]
  },
  {
   "cell_type": "code",
   "execution_count": null,
   "metadata": {},
   "outputs": [],
   "source": [
    "[process_number(num) for num in data]"
   ]
  },
  {
   "cell_type": "markdown",
   "metadata": {},
   "source": [
    "## Recap\n",
    "\n",
    "- Recap best practices:\n",
    "    - Follow PEP 8.\n",
    "    - Use functions for modularity.\n",
    "    - Keep code readable and reusable."
   ]
  },
  {
   "cell_type": "code",
   "execution_count": null,
   "metadata": {},
   "outputs": [],
   "source": []
  },
  {
   "cell_type": "markdown",
   "metadata": {},
   "source": [
    "## Part 2: `polars` DataFrames"
   ]
  },
  {
   "cell_type": "markdown",
   "metadata": {},
   "source": [
    "[Documentation](https://docs.pola.rs) + [github page](https://github.com/pola-rs/polars)\n",
    "\n",
    "Nice website: [Modern polars](https://kevinheavey.github.io/modern-polars/timeseries.html)"
   ]
  },
  {
   "cell_type": "markdown",
   "metadata": {},
   "source": [
    "### **What is `polars`?**\n",
    "\n",
    "`polars` is a **high-performance DataFrame library for Python** that is designed to handle large datasets efficiently. It's written in Rust and optimized for both speed and memory usage.\n",
    "\n",
    "**Key Features:**\n",
    "\n",
    "- Lazy evaluation for optimized computation\n",
    "- Native support for multi-threading\n",
    "- Designed to work seamlessly with Arrow and Parquet formats\n",
    "- Immutable data structures for safety"
   ]
  },
  {
   "cell_type": "markdown",
   "metadata": {},
   "source": [
    "### **Why Choose `polars`?**\n",
    "\n",
    "| Feature | `polars` | `pandas` |\n",
    "| --- | --- | --- |\n",
    "| Speed | Faster due to Rust and parallelism | Slower for large datasets |\n",
    "| Memory Efficiency | Optimized for low memory usage | High memory usage for large operations |\n",
    "| Lazy Evaluation | Available (process only when required) | Not available |\n",
    "| Parquet Support | Built-in | Requires additional packages |"
   ]
  },
  {
   "cell_type": "markdown",
   "metadata": {},
   "source": [
    "### Hands-on dataset with `polars`\n",
    "\n",
    "We’ll use the **Kaggle \"Netflix Movies and TV Shows\" Dataset** (`netflix_titles.csv`) for demonstration."
   ]
  },
  {
   "cell_type": "code",
   "execution_count": null,
   "metadata": {},
   "outputs": [],
   "source": [
    "# !pip install polars"
   ]
  },
  {
   "cell_type": "code",
   "execution_count": null,
   "metadata": {},
   "outputs": [],
   "source": [
    "import polars as pl\n",
    "# import altair as alt"
   ]
  },
  {
   "cell_type": "markdown",
   "metadata": {},
   "source": [
    "### Load the Dataset"
   ]
  },
  {
   "cell_type": "code",
   "execution_count": null,
   "metadata": {},
   "outputs": [],
   "source": [
    "df = pl.read_csv(\"../99_files/netflix_titles.csv\")"
   ]
  },
  {
   "cell_type": "code",
   "execution_count": null,
   "metadata": {},
   "outputs": [],
   "source": [
    "df.head()"
   ]
  },
  {
   "cell_type": "markdown",
   "metadata": {},
   "source": [
    "### Explore the Dataset"
   ]
  },
  {
   "cell_type": "code",
   "execution_count": null,
   "metadata": {},
   "outputs": [],
   "source": [
    "type(df)"
   ]
  },
  {
   "cell_type": "code",
   "execution_count": null,
   "metadata": {},
   "outputs": [],
   "source": [
    "# Print schema\n",
    "df.schema"
   ]
  },
  {
   "cell_type": "code",
   "execution_count": null,
   "metadata": {},
   "outputs": [],
   "source": [
    "# Basic statistics\n",
    "df.describe()"
   ]
  },
  {
   "cell_type": "code",
   "execution_count": null,
   "metadata": {},
   "outputs": [],
   "source": [
    "print(df.describe())"
   ]
  },
  {
   "cell_type": "code",
   "execution_count": null,
   "metadata": {},
   "outputs": [],
   "source": []
  },
  {
   "cell_type": "markdown",
   "metadata": {},
   "source": [
    "### Manipulation and Filtering"
   ]
  },
  {
   "cell_type": "code",
   "execution_count": null,
   "metadata": {},
   "outputs": [],
   "source": [
    "df[\"type\"].unique()"
   ]
  },
  {
   "cell_type": "code",
   "execution_count": null,
   "metadata": {},
   "outputs": [],
   "source": [
    "df[\"type\"].value_counts()"
   ]
  },
  {
   "cell_type": "code",
   "execution_count": null,
   "metadata": {},
   "outputs": [],
   "source": [
    "df[\"type\"].n_unique()"
   ]
  },
  {
   "cell_type": "code",
   "execution_count": null,
   "metadata": {},
   "outputs": [],
   "source": [
    "df.filter((pl.col(\"type\") == \"Movie\"))"
   ]
  },
  {
   "cell_type": "code",
   "execution_count": null,
   "metadata": {},
   "outputs": [],
   "source": [
    "df.filter(pl.col(\"release_year\") > 2020)"
   ]
  },
  {
   "cell_type": "code",
   "execution_count": null,
   "metadata": {},
   "outputs": [],
   "source": [
    "def sel_split(x):\n",
    "    return x.split()[0]\n",
    "\n",
    "dfm = df.filter((pl.col(\"type\") == \"Movie\"))\n",
    "\n",
    "result = dfm.select(\n",
    "    pl.col([\"type\", \"title\", \"release_year\", \"duration\"]),\n",
    "    pl.col(\"duration\").map_elements(sel_split,return_dtype=str).alias(\"duration_min\"),\n",
    ")\n",
    "result"
   ]
  },
  {
   "cell_type": "code",
   "execution_count": null,
   "metadata": {},
   "outputs": [],
   "source": [
    "# Filter movies released after 2015\n",
    "filtered_df = df.filter((pl.col(\"type\") == \"Movie\") & (pl.col(\"release_year\") > 2015))\n",
    "filtered_df"
   ]
  },
  {
   "cell_type": "code",
   "execution_count": null,
   "metadata": {},
   "outputs": [],
   "source": [
    "# df.group_by vs. pd.df.groupby"
   ]
  },
  {
   "cell_type": "code",
   "execution_count": null,
   "metadata": {},
   "outputs": [],
   "source": [
    "df0 = df.group_by(\"release_year\").len()\n",
    "df0.sort(\"release_year\")"
   ]
  },
  {
   "cell_type": "code",
   "execution_count": null,
   "metadata": {},
   "outputs": [],
   "source": [
    "df0.to_pandas()"
   ]
  },
  {
   "cell_type": "code",
   "execution_count": null,
   "metadata": {},
   "outputs": [],
   "source": [
    "# Group by and aggregate\n",
    "agg_df = df.group_by(\"release_year\").agg([\n",
    "    pl.col(\"type\").count().alias(\"count\"),\n",
    "])\n",
    "print(agg_df)"
   ]
  },
  {
   "cell_type": "code",
   "execution_count": null,
   "metadata": {},
   "outputs": [],
   "source": [
    "q = (\n",
    "    df.lazy()\n",
    "    .sort(\"release_year\")\n",
    "    .select([\"type\", \"title\", \"release_year\", \"duration\"])\n",
    "    .filter(pl.col(\"type\") == \"Movie\")\n",
    ")\n",
    "\n",
    "dfs = q.collect()\n",
    "print(dfs)"
   ]
  },
  {
   "cell_type": "code",
   "execution_count": null,
   "metadata": {},
   "outputs": [],
   "source": []
  },
  {
   "cell_type": "code",
   "execution_count": null,
   "metadata": {},
   "outputs": [],
   "source": [
    "def extract_min_pl() -> pl.Expr:\n",
    "    cols = [\"duration\"]\n",
    "    return pl.col(cols).str.split(\" \").list.get(0)\n",
    "\n",
    "dfs = dfs.with_columns(\n",
    "    extract_min_pl().alias(\"duration_min\").cast(pl.Int32)\n",
    ")\n",
    "dfs"
   ]
  },
  {
   "cell_type": "code",
   "execution_count": null,
   "metadata": {},
   "outputs": [],
   "source": [
    "dfs.with_columns(\n",
    "    (pl.col(\"duration_min\") / pl.col(\"duration_min\").min()).alias(\"pct_total\"),\n",
    "    (pl.col(\"duration_min\") / pl.col(\"duration_min\").max()).alias(\"pct_total_2\"),\n",
    ")"
   ]
  },
  {
   "cell_type": "markdown",
   "metadata": {},
   "source": [
    "### Plots (unstable) - do `to_pandas()` then plot"
   ]
  },
  {
   "cell_type": "code",
   "execution_count": null,
   "metadata": {},
   "outputs": [],
   "source": [
    "# s = pl.Series([1, 4, 4, 6, 2, 4, 3, 5, 5, 7, 1])\n",
    "# s.plot.hist()"
   ]
  },
  {
   "cell_type": "code",
   "execution_count": null,
   "metadata": {},
   "outputs": [],
   "source": [
    "# retina resolution seaborn plot\n",
    "import seaborn as sns\n",
    "sns.set_context(\"notebook\", font_scale=1.2)\n",
    "%config InlineBackend.figure_format = \"retina\""
   ]
  },
  {
   "cell_type": "code",
   "execution_count": null,
   "metadata": {},
   "outputs": [],
   "source": [
    "dfs[\"duration_min\"].to_pandas().plot.hist(title=\"Movie Duration Distribution\", color=\"gray\", bins=30, xlabel=\"Duration (minutes)\")"
   ]
  },
  {
   "cell_type": "markdown",
   "metadata": {},
   "source": [
    "## Parquet"
   ]
  },
  {
   "cell_type": "markdown",
   "metadata": {},
   "source": [
    "### Dive into Parquet Format: What is Parquet?\n",
    "\n",
    "**Parquet** is a columnar storage file format designed for efficient data processing. It is widely used in big data frameworks like Spark and Hive.\n",
    "\n",
    "[https://docs.pola.rs/user-guide/io/parquet/](https://docs.pola.rs/user-guide/io/parquet/)\n",
    "\n",
    "**Advantages of Parquet:**\n",
    "\n",
    "- Compact storage through compression\n",
    "- Faster read/write times for columnar operations\n",
    "- Schema evolution support"
   ]
  },
  {
   "cell_type": "markdown",
   "metadata": {},
   "source": [
    "### Using Parquet with `polars`"
   ]
  },
  {
   "cell_type": "code",
   "execution_count": null,
   "metadata": {},
   "outputs": [],
   "source": [
    "# Save as Parquet\n",
    "df.write_parquet(\"netflix_titles.parquet\")"
   ]
  },
  {
   "cell_type": "code",
   "execution_count": null,
   "metadata": {},
   "outputs": [],
   "source": [
    "# Load from Parquet\n",
    "parquet_df = pl.read_parquet(\"netflix_titles.parquet\")\n",
    "print(parquet_df)"
   ]
  },
  {
   "cell_type": "markdown",
   "metadata": {},
   "source": [
    "Performance Showcase\n",
    "\n",
    "We'll benchmark `polars` and `pandas` using a large dataset.\n",
    "\n",
    "### Benchmark Code"
   ]
  },
  {
   "cell_type": "code",
   "execution_count": null,
   "metadata": {},
   "outputs": [],
   "source": [
    "import pandas as pd\n",
    "import time\n",
    "\n",
    "# Pandas Benchmark\n",
    "start = time.time()\n",
    "pandas_df = pd.read_csv(\"../99_files/netflix_titles.csv\")\n",
    "pandas_filtered = pandas_df[(pandas_df[\"type\"] == \"Movie\") & (pandas_df[\"release_year\"] > 2015)]\n",
    "print(\"Pandas Time:\", time.time() - start)\n",
    "\n",
    "# Polars Benchmark\n",
    "start = time.time()\n",
    "polars_df = pl.read_csv(\"../99_files/netflix_titles.csv\")\n",
    "polars_filtered = polars_df.filter((pl.col(\"type\") == \"Movie\") & (pl.col(\"release_year\") > 2015))\n",
    "print(\"Polars Time:\", time.time() - start)\n",
    "\n",
    "# Polars Benchmark parquet\n",
    "start = time.time()\n",
    "polars_df = pl.read_parquet(\"netflix_titles.parquet\")\n",
    "polars_filtered = polars_df.filter((pl.col(\"type\") == \"Movie\") & (pl.col(\"release_year\") > 2015))\n",
    "print(\"Polars Time:\", time.time() - start)"
   ]
  },
  {
   "cell_type": "markdown",
   "metadata": {},
   "source": [
    "### Expected Results\n",
    "\n",
    "- `polars` will outperform `pandas` significantly in terms of speed and memory usage."
   ]
  },
  {
   "cell_type": "markdown",
   "metadata": {},
   "source": [
    "### **Summary**\n",
    "\n",
    "1. **`polars` vs `pandas`:**\n",
    "    - Faster, more efficient for large datasets\n",
    "    - Lazy evaluation for complex pipelines\n",
    "2. **Parquet Format:**\n",
    "    - Ideal for compact, efficient storage\n",
    "    - Works seamlessly with `polars`"
   ]
  },
  {
   "cell_type": "code",
   "execution_count": null,
   "metadata": {},
   "outputs": [],
   "source": []
  },
  {
   "cell_type": "markdown",
   "metadata": {},
   "source": []
  }
 ],
 "metadata": {
  "kernelspec": {
   "display_name": "Python 3",
   "language": "python",
   "name": "python3"
  },
  "language_info": {
   "codemirror_mode": {
    "name": "ipython",
    "version": 3
   },
   "file_extension": ".py",
   "mimetype": "text/x-python",
   "name": "python",
   "nbconvert_exporter": "python",
   "pygments_lexer": "ipython3",
   "version": "3.11.10"
  }
 },
 "nbformat": 4,
 "nbformat_minor": 2
}
