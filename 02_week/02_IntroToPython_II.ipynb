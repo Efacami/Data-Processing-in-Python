{
 "cells": [
  {
   "cell_type": "markdown",
   "id": "63662a76",
   "metadata": {},
   "source": [
    "# Lecture II: Basics of Python II"
   ]
  },
  {
   "cell_type": "markdown",
   "id": "488bbb9b-0923-496f-83aa-daba0502abd9",
   "metadata": {},
   "source": [
    "October 6, 2025\n",
    "\n",
    "*partially generated with OpenAI DALL-E3 by Jan in SS 2024*"
   ]
  },
  {
   "cell_type": "markdown",
   "id": "d2509b00-dd89-4166-bc92-fad73a9f623a",
   "metadata": {},
   "source": [
    "## Questions first\n",
    "\n",
    "- Do you have any problem with running python + jupyter (vscode)?\n",
    "- Everyone has github account?\n",
    "\n",
    "- Just to check, next Monday is the deadline of the first HW.\n",
    "    - Create a [LeetCode](leetcode.com) account using your faculty e-mail\n",
    "    - Solve of any of the **Easy** [problems](https://leetcode.com/problemset/)\n",
    "    - **Do not use** AI to generate your solutions. Firstly, it will defy the purpose of the homeworks. Secondly, you could be penalised as per academic integrity.\n",
    "    - Submit your solution via Google Forms\n",
    "    - Complete instructions will be sent via e-mail tonight"
   ]
  },
  {
   "cell_type": "markdown",
   "id": "691ba451-05f4-4cb9-a54a-bc186791c631",
   "metadata": {},
   "source": [
    "## Recap from the last week\n",
    "\n",
    "What data types do you remember from last lecture?"
   ]
  },
  {
   "cell_type": "markdown",
   "id": "96447e1b-814c-4fc9-a65e-3789aff50a59",
   "metadata": {},
   "source": [
    "- Shout any buzz word you remember"
   ]
  },
  {
   "cell_type": "markdown",
   "id": "ac36bc30-bbbe-4862-a8af-74788f38da1c",
   "metadata": {},
   "source": [
    "## Docs\n",
    "\n",
    "https://docs.python.org/3/tutorial/index.html\n",
    "\n",
    "https://docs.python.org/3/tutorial/datastructures.html\n",
    "\n",
    "### Problems/errors:\n",
    "\n",
    "1) Google it\n",
    "2) Stackoverflow.com\n",
    "3) Google again :)"
   ]
  },
  {
   "cell_type": "markdown",
   "id": "a1c6f332",
   "metadata": {},
   "source": [
    "## Lists"
   ]
  },
  {
   "cell_type": "code",
   "execution_count": 3,
   "id": "38df9067",
   "metadata": {},
   "outputs": [],
   "source": [
    "my_list = [0, 1, 2, 3, 4, 5] # collection of items"
   ]
  },
  {
   "cell_type": "code",
   "execution_count": 4,
   "id": "90609dfb",
   "metadata": {},
   "outputs": [
    {
     "name": "stdout",
     "output_type": "stream",
     "text": [
      "[0, 1, 2, 3, 4, 5]\n"
     ]
    }
   ],
   "source": [
    "print(my_list)"
   ]
  },
  {
   "cell_type": "markdown",
   "id": "1db1396d",
   "metadata": {},
   "source": [
    "- can save integers, strings, functions, anything"
   ]
  },
  {
   "cell_type": "code",
   "execution_count": 5,
   "id": "5f2390ac-555b-4f26-977c-246a299238a5",
   "metadata": {},
   "outputs": [],
   "source": [
    "a = [0,'a',lambda x: x+1] # very versatile"
   ]
  },
  {
   "cell_type": "code",
   "execution_count": null,
   "id": "9d6c6b1c",
   "metadata": {},
   "outputs": [],
   "source": [
    "my_list"
   ]
  },
  {
   "cell_type": "code",
   "execution_count": 8,
   "id": "7c1449d1",
   "metadata": {},
   "outputs": [
    {
     "data": {
      "text/plain": [
       "[1, 2, 3, 4, 5, 6]"
      ]
     },
     "execution_count": 8,
     "metadata": {},
     "output_type": "execute_result"
    }
   ],
   "source": [
    "my_list1 = [i + 1 for i in my_list]\n",
    "my_list1"
   ]
  },
  {
   "cell_type": "code",
   "execution_count": 12,
   "id": "a5f08f76-e6b7-4263-9a41-12c9f8fafe6d",
   "metadata": {},
   "outputs": [
    {
     "data": {
      "text/plain": [
       "[0, 2, 4]"
      ]
     },
     "execution_count": 12,
     "metadata": {},
     "output_type": "execute_result"
    }
   ],
   "source": [
    "# general concept of iterables \n",
    "\n",
    "my_list[0:5:2] #how to look into object"
   ]
  },
  {
   "cell_type": "code",
   "execution_count": 13,
   "id": "450f5a99-751e-4d05-b891-954dfa97f5b2",
   "metadata": {},
   "outputs": [
    {
     "name": "stdout",
     "output_type": "stream",
     "text": [
      "0\n",
      "1\n",
      "2\n",
      "3\n",
      "4\n",
      "5\n"
     ]
    }
   ],
   "source": [
    "# Iteration - very important concept! \n",
    "for item in my_list:\n",
    "    print(item)"
   ]
  },
  {
   "cell_type": "markdown",
   "id": "6c41ce9c",
   "metadata": {},
   "source": [
    "Iteration with indexing elements:"
   ]
  },
  {
   "cell_type": "code",
   "execution_count": 14,
   "id": "dd85bfd3-5397-45d5-b43f-01dab4c50f1b",
   "metadata": {},
   "outputs": [
    {
     "name": "stdout",
     "output_type": "stream",
     "text": [
      "index 0 in my_list contains value 1\n",
      "index 1 in my_list contains value 2\n",
      "index 2 in my_list contains value 43\n",
      "index 3 in my_list contains value 4\n",
      "index 4 in my_list contains value 5\n",
      "index 5 in my_list contains value 3\n",
      "index 6 in my_list contains value 1\n"
     ]
    }
   ],
   "source": [
    "for idx, item in enumerate([1,2,43,4,5,3,1]):\n",
    "    print(f\"index {idx} in my_list contains value {item}\")"
   ]
  },
  {
   "cell_type": "code",
   "execution_count": null,
   "id": "40d02acd-eedd-4db0-a7f9-3d218b92778f",
   "metadata": {},
   "outputs": [],
   "source": []
  },
  {
   "cell_type": "markdown",
   "id": "877181b6",
   "metadata": {},
   "source": [
    "Unwrapping a string to a list of characters"
   ]
  },
  {
   "cell_type": "code",
   "execution_count": 18,
   "id": "c9552e98-85f8-4018-8448-9fc7ebd4c575",
   "metadata": {},
   "outputs": [],
   "source": [
    "str = list('hello')"
   ]
  },
  {
   "cell_type": "markdown",
   "id": "18f4917a",
   "metadata": {},
   "source": [
    "Access elements in a list"
   ]
  },
  {
   "cell_type": "code",
   "execution_count": 19,
   "id": "c8d97b85",
   "metadata": {},
   "outputs": [
    {
     "data": {
      "text/plain": [
       "['h', 'l', 'o']"
      ]
     },
     "execution_count": 19,
     "metadata": {},
     "output_type": "execute_result"
    }
   ],
   "source": [
    "# print(my_list)\n",
    "str[0:len(my_list):2] # start:end:step"
   ]
  },
  {
   "cell_type": "code",
   "execution_count": 25,
   "id": "42bb01e4",
   "metadata": {},
   "outputs": [
    {
     "data": {
      "text/plain": [
       "[0, 1, 2, 3, 4]"
      ]
     },
     "execution_count": 25,
     "metadata": {},
     "output_type": "execute_result"
    }
   ],
   "source": [
    "my_list[0:-1:]"
   ]
  },
  {
   "cell_type": "code",
   "execution_count": 26,
   "id": "308eb69e-0c65-441b-ad7c-32202345d9c4",
   "metadata": {},
   "outputs": [
    {
     "data": {
      "text/plain": [
       "6"
      ]
     },
     "execution_count": 26,
     "metadata": {},
     "output_type": "execute_result"
    }
   ],
   "source": [
    "len(my_list)"
   ]
  },
  {
   "cell_type": "code",
   "execution_count": 27,
   "id": "6ef76a22-c536-4b8a-b5e4-b7dc963466ae",
   "metadata": {},
   "outputs": [
    {
     "data": {
      "text/plain": [
       "[5, 4, 3, 2, 1, 0]"
      ]
     },
     "execution_count": 27,
     "metadata": {},
     "output_type": "execute_result"
    }
   ],
   "source": [
    "my_list[::-1] # get every other item"
   ]
  },
  {
   "cell_type": "code",
   "execution_count": 28,
   "id": "f9c6fcbe",
   "metadata": {},
   "outputs": [
    {
     "data": {
      "text/plain": [
       "[5, 4, 3, 2, 1, 0]"
      ]
     },
     "execution_count": 28,
     "metadata": {},
     "output_type": "execute_result"
    }
   ],
   "source": [
    "reversed_list = my_list[::-1]\n",
    "reversed_list"
   ]
  },
  {
   "cell_type": "markdown",
   "id": "307e1214-f94d-4026-b573-7d605a1aef26",
   "metadata": {},
   "source": [
    "### List comprehension"
   ]
  },
  {
   "cell_type": "code",
   "execution_count": null,
   "id": "da5a18d5-6a46-40b4-b05a-46b2afa91601",
   "metadata": {},
   "outputs": [],
   "source": [
    "list(range(5))"
   ]
  },
  {
   "cell_type": "code",
   "execution_count": 29,
   "id": "b8f16358-611b-4708-9570-1b3f67c293f4",
   "metadata": {},
   "outputs": [],
   "source": [
    "# Creating a list of squared numbers\n",
    "squares = [x**2 for x in range(5)] # list comprehension (pythonic term)"
   ]
  },
  {
   "cell_type": "code",
   "execution_count": 30,
   "id": "8a064d67",
   "metadata": {},
   "outputs": [
    {
     "name": "stdout",
     "output_type": "stream",
     "text": [
      "[0, 1, 4, 9, 16]\n"
     ]
    }
   ],
   "source": [
    "print(squares)"
   ]
  },
  {
   "cell_type": "code",
   "execution_count": 32,
   "id": "36d47197-ef07-4aac-bf80-e3e847b1abb4",
   "metadata": {},
   "outputs": [],
   "source": [
    "# Creating a flat list from a matrix (2d array-> array of array)\n",
    "matrix = [[1, 2, 3], [4, 5, 6], [7, 8, 9]]"
   ]
  },
  {
   "cell_type": "code",
   "execution_count": 33,
   "id": "c401d45b",
   "metadata": {},
   "outputs": [
    {
     "name": "stdout",
     "output_type": "stream",
     "text": [
      "[[1, 2, 3], [4, 5, 6], [7, 8, 9]]\n"
     ]
    }
   ],
   "source": [
    "print(matrix)"
   ]
  },
  {
   "cell_type": "code",
   "execution_count": 34,
   "id": "c6f226a2",
   "metadata": {},
   "outputs": [
    {
     "name": "stdout",
     "output_type": "stream",
     "text": [
      "[1, 2, 3, 4, 5, 6, 7, 8, 9]\n"
     ]
    }
   ],
   "source": [
    "flat_list = [element for row in matrix for element in row] #two-for loops in one comprehension\n",
    "print(flat_list)"
   ]
  },
  {
   "cell_type": "code",
   "execution_count": 31,
   "id": "f17c936b-553f-483f-bcfd-196359d850b1",
   "metadata": {},
   "outputs": [
    {
     "data": {
      "text/plain": [
       "[0, 4, 16, 36, 64]"
      ]
     },
     "execution_count": 31,
     "metadata": {},
     "output_type": "execute_result"
    }
   ],
   "source": [
    "# Creating a list of even numbers\n",
    "evens = [x**2 for x in range(10) if x % 2 == 0] #comprehension with conditions\n",
    "evens"
   ]
  },
  {
   "cell_type": "code",
   "execution_count": 44,
   "id": "580139ea",
   "metadata": {},
   "outputs": [],
   "source": [
    "# python built-in filter\n",
    "# DIY! Try to look up how to filter values in Python array (list)! Let's filter even values of flat_list using function filter()\n",
    "filtered_data = filter(lambda number: number % 2 == 0, squares)"
   ]
  },
  {
   "cell_type": "code",
   "execution_count": 45,
   "id": "420dd293",
   "metadata": {},
   "outputs": [
    {
     "data": {
      "text/plain": [
       "[0, 4, 16]"
      ]
     },
     "execution_count": 45,
     "metadata": {},
     "output_type": "execute_result"
    }
   ],
   "source": [
    "[i for i in filtered_data]"
   ]
  },
  {
   "cell_type": "code",
   "execution_count": 50,
   "id": "49b2f2b6-47cc-49bf-92a1-a23ef3f32d59",
   "metadata": {},
   "outputs": [],
   "source": [
    "# Using append and extend\n",
    "my_list = [1, 2, 3]"
   ]
  },
  {
   "cell_type": "code",
   "execution_count": 51,
   "id": "6d35a476",
   "metadata": {},
   "outputs": [
    {
     "name": "stdout",
     "output_type": "stream",
     "text": [
      "[1, 2, 3, 4]\n"
     ]
    }
   ],
   "source": [
    "my_list.append(4)  # [1, 2, 3, 4]\n",
    "print(my_list)"
   ]
  },
  {
   "cell_type": "code",
   "execution_count": 52,
   "id": "e717e5db",
   "metadata": {},
   "outputs": [],
   "source": [
    "my_list.extend([5, 6, 6, 5])  # [1, 2, 3, 4, 5, 6]"
   ]
  },
  {
   "cell_type": "code",
   "execution_count": 53,
   "id": "06c369e8",
   "metadata": {},
   "outputs": [
    {
     "data": {
      "text/plain": [
       "[1, 2, 3, 4, 5, 6, 6, 5]"
      ]
     },
     "execution_count": 53,
     "metadata": {},
     "output_type": "execute_result"
    }
   ],
   "source": [
    "my_list"
   ]
  },
  {
   "cell_type": "code",
   "execution_count": 54,
   "id": "f36eda59-1076-4f7e-a069-e9f88821601c",
   "metadata": {},
   "outputs": [
    {
     "data": {
      "text/plain": [
       "[1, 2, 3, 4, 6, 6, 5]"
      ]
     },
     "execution_count": 54,
     "metadata": {},
     "output_type": "execute_result"
    }
   ],
   "source": [
    "# Removing from list\n",
    "my_list.remove(5) \n",
    "my_list"
   ]
  },
  {
   "cell_type": "code",
   "execution_count": 57,
   "id": "e101c69f",
   "metadata": {},
   "outputs": [
    {
     "ename": "ValueError",
     "evalue": "list.remove(x): x not in list",
     "output_type": "error",
     "traceback": [
      "\u001b[31m---------------------------------------------------------------------------\u001b[39m",
      "\u001b[31mValueError\u001b[39m                                Traceback (most recent call last)",
      "\u001b[36mCell\u001b[39m\u001b[36m \u001b[39m\u001b[32mIn[57]\u001b[39m\u001b[32m, line 2\u001b[39m\n\u001b[32m      1\u001b[39m \u001b[38;5;66;03m# Remove the first item from the list whose value is equal to x. It raises a ValueError if there is no such item.\u001b[39;00m\n\u001b[32m----> \u001b[39m\u001b[32m2\u001b[39m \u001b[43mmy_list\u001b[49m\u001b[43m.\u001b[49m\u001b[43mremove\u001b[49m\u001b[43m(\u001b[49m\u001b[32;43m5\u001b[39;49m\u001b[43m)\u001b[49m\n",
      "\u001b[31mValueError\u001b[39m: list.remove(x): x not in list"
     ]
    }
   ],
   "source": [
    "# Remove the first item from the list whose value is equal to x. It raises a ValueError if there is no such item.\n",
    "my_list.remove(5)"
   ]
  },
  {
   "cell_type": "code",
   "execution_count": 56,
   "id": "0cb3136a",
   "metadata": {},
   "outputs": [
    {
     "data": {
      "text/plain": [
       "[1, 2, 3, 4, 6, 6]"
      ]
     },
     "execution_count": 56,
     "metadata": {},
     "output_type": "execute_result"
    }
   ],
   "source": [
    "my_list"
   ]
  },
  {
   "cell_type": "code",
   "execution_count": 60,
   "id": "2361cb77",
   "metadata": {},
   "outputs": [],
   "source": [
    "popped = my_list.pop()"
   ]
  },
  {
   "cell_type": "code",
   "execution_count": 61,
   "id": "074a9a42",
   "metadata": {},
   "outputs": [
    {
     "data": {
      "text/plain": [
       "[1, 2, 3, 4]"
      ]
     },
     "execution_count": 61,
     "metadata": {},
     "output_type": "execute_result"
    }
   ],
   "source": [
    "my_list"
   ]
  },
  {
   "cell_type": "code",
   "execution_count": 62,
   "id": "b2c5fbdd",
   "metadata": {},
   "outputs": [
    {
     "data": {
      "text/plain": [
       "2"
      ]
     },
     "execution_count": 62,
     "metadata": {},
     "output_type": "execute_result"
    }
   ],
   "source": [
    "my_list.pop(1)"
   ]
  },
  {
   "cell_type": "code",
   "execution_count": 63,
   "id": "87e9a23a",
   "metadata": {},
   "outputs": [
    {
     "data": {
      "text/plain": [
       "[1, 3, 4]"
      ]
     },
     "execution_count": 63,
     "metadata": {},
     "output_type": "execute_result"
    }
   ],
   "source": [
    "my_list"
   ]
  },
  {
   "cell_type": "code",
   "execution_count": 33,
   "id": "65c7f61a",
   "metadata": {},
   "outputs": [],
   "source": [
    "# Remove the item at the given position in the list, and return it. If no index is specified, a.pop() removes and returns the last item in the list. It raises an IndexError if the list is empty or the index is outside the list range."
   ]
  },
  {
   "cell_type": "code",
   "execution_count": 64,
   "id": "2e048683-a236-453a-9471-c613f84ddb0e",
   "metadata": {},
   "outputs": [
    {
     "name": "stdout",
     "output_type": "stream",
     "text": [
      "[1, 3, 4]\n"
     ]
    },
    {
     "data": {
      "text/plain": [
       "6"
      ]
     },
     "execution_count": 64,
     "metadata": {},
     "output_type": "execute_result"
    }
   ],
   "source": [
    "print(my_list)\n",
    "popped"
   ]
  },
  {
   "cell_type": "code",
   "execution_count": 35,
   "id": "5f93aa78-1e83-4fcf-811b-76c0e9583d07",
   "metadata": {},
   "outputs": [],
   "source": [
    "# There are operations which change the item itself, some return a new object -> more on that later "
   ]
  },
  {
   "cell_type": "markdown",
   "id": "142c16b2",
   "metadata": {},
   "source": [
    "### Basic operations on arrays"
   ]
  },
  {
   "cell_type": "code",
   "execution_count": 65,
   "id": "a70b811c-4f70-4fa0-9d3f-9cb7095b1e73",
   "metadata": {},
   "outputs": [
    {
     "name": "stdout",
     "output_type": "stream",
     "text": [
      "range(0, 7)\n"
     ]
    }
   ],
   "source": [
    "# Basic operations on arrays\n",
    "my_list = range(7)\n",
    "print(my_list)"
   ]
  },
  {
   "cell_type": "code",
   "execution_count": 66,
   "id": "44b6c8af",
   "metadata": {},
   "outputs": [
    {
     "name": "stdout",
     "output_type": "stream",
     "text": [
      "21\n",
      "0\n",
      "6\n",
      "7\n"
     ]
    }
   ],
   "source": [
    "# Using sum, min, max, and len\n",
    "print(sum(my_list))  # 21\n",
    "print(min(my_list))  # 0\n",
    "print(max(my_list))  # 6\n",
    "print(len(my_list))  # 7"
   ]
  },
  {
   "cell_type": "code",
   "execution_count": 67,
   "id": "628e51b4-9e71-40a5-9613-5698371dc4c2",
   "metadata": {},
   "outputs": [],
   "source": [
    "# Merge lists\n",
    "list_a = [1, 2, 3]\n",
    "list_b = [4, 5, 6]"
   ]
  },
  {
   "cell_type": "code",
   "execution_count": 68,
   "id": "2e0ab2fd",
   "metadata": {},
   "outputs": [
    {
     "data": {
      "text/plain": [
       "[1, 2, 3, 4, 5, 6]"
      ]
     },
     "execution_count": 68,
     "metadata": {},
     "output_type": "execute_result"
    }
   ],
   "source": [
    "[*list_a, *list_b] # unpacking operator"
   ]
  },
  {
   "cell_type": "code",
   "execution_count": 69,
   "id": "ab7669a7",
   "metadata": {},
   "outputs": [
    {
     "data": {
      "text/plain": [
       "[1, 2, 3, 4, 5, 6]"
      ]
     },
     "execution_count": 69,
     "metadata": {},
     "output_type": "execute_result"
    }
   ],
   "source": [
    "list_a + list_b # same as above"
   ]
  },
  {
   "cell_type": "code",
   "execution_count": 70,
   "id": "769d97be",
   "metadata": {},
   "outputs": [],
   "source": [
    "# how does this differ?\n",
    "list_a.extend(list_b) # modifies list_a"
   ]
  },
  {
   "cell_type": "code",
   "execution_count": 71,
   "id": "bd7f3ea7-2c62-490b-aa2d-6209ff37c2f5",
   "metadata": {},
   "outputs": [
    {
     "data": {
      "text/plain": [
       "[1, 2, 3, 4, 5, 6]"
      ]
     },
     "execution_count": 71,
     "metadata": {},
     "output_type": "execute_result"
    }
   ],
   "source": [
    "list_a"
   ]
  },
  {
   "cell_type": "code",
   "execution_count": 72,
   "id": "4781af74-6416-4443-81d5-f02dc2a90c85",
   "metadata": {},
   "outputs": [
    {
     "data": {
      "text/plain": [
       "[(0, 1), (0, 2), (0, 3), (1, 1), (1, 2), (1, 3), (2, 1), (2, 2), (2, 3)]"
      ]
     },
     "execution_count": 72,
     "metadata": {},
     "output_type": "execute_result"
    }
   ],
   "source": [
    "# Creating a list of all coordinates within a 3x3 grid - list comprehension\n",
    "coordinates = [(x, y) for x in range(3) for y in range(1, 4)]\n",
    "coordinates"
   ]
  },
  {
   "cell_type": "code",
   "execution_count": 79,
   "id": "c78c6fe4-f6d8-48e2-8cbd-672201df7921",
   "metadata": {},
   "outputs": [
    {
     "data": {
      "text/plain": [
       "[[1, 4, 7, 7], [2, 5, 8, 8], [3, 6, 9, 9]]"
      ]
     },
     "execution_count": 79,
     "metadata": {},
     "output_type": "execute_result"
    }
   ],
   "source": [
    "# Transposing a matrix using nested list comprehension - two for loops in one comprehension\n",
    "matrix = [[1, 2, 3], [4, 5, 6], [7, 8, 9], [7, 8, 9]]\n",
    "transposed = [[row[i] for row in matrix] for i in range(3)]\n",
    "transposed"
   ]
  },
  {
   "cell_type": "code",
   "execution_count": 77,
   "id": "f371cd2c-009b-4eaa-9bcf-3e4d7b09daee",
   "metadata": {},
   "outputs": [
    {
     "data": {
      "text/plain": [
       "list"
      ]
     },
     "execution_count": 77,
     "metadata": {},
     "output_type": "execute_result"
    }
   ],
   "source": [
    "type(coordinates)"
   ]
  },
  {
   "cell_type": "code",
   "execution_count": 80,
   "id": "df19438f",
   "metadata": {},
   "outputs": [
    {
     "name": "stdout",
     "output_type": "stream",
     "text": [
      "4 3\n"
     ]
    }
   ],
   "source": [
    "# Size of matrix\n",
    "rows = len(matrix)\n",
    "cols = len(matrix[0])\n",
    "print(rows, cols)"
   ]
  },
  {
   "cell_type": "code",
   "execution_count": 81,
   "id": "08c588b7-5ea9-437c-ba9a-f3123852d920",
   "metadata": {},
   "outputs": [
    {
     "data": {
      "text/plain": [
       "[1, 2, 1, 2, 1, 2, 1, 2, 1, 2, 1, 2, 1, 2, 1, 2, 1, 2, 1, 2]"
      ]
     },
     "execution_count": 81,
     "metadata": {},
     "output_type": "execute_result"
    }
   ],
   "source": [
    "# Repeating lists\n",
    "my_list=[1,2]\n",
    "repeated = my_list * 10  # [1, 2, 1, 2]\n",
    "repeated\n",
    "# len(repeated)"
   ]
  },
  {
   "cell_type": "markdown",
   "id": "b087e69c",
   "metadata": {},
   "source": [
    "## Iterating Backward"
   ]
  },
  {
   "cell_type": "code",
   "execution_count": 83,
   "id": "59a4a1e1",
   "metadata": {},
   "outputs": [
    {
     "data": {
      "text/plain": [
       "[2, 1]"
      ]
     },
     "execution_count": 83,
     "metadata": {},
     "output_type": "execute_result"
    }
   ],
   "source": [
    "# Iterating backward through a list\n",
    "[item for item in reversed(my_list)]"
   ]
  },
  {
   "cell_type": "code",
   "execution_count": 84,
   "id": "1cd4f9df",
   "metadata": {},
   "outputs": [
    {
     "data": {
      "text/plain": [
       "[2, 1]"
      ]
     },
     "execution_count": 84,
     "metadata": {},
     "output_type": "execute_result"
    }
   ],
   "source": [
    "my_list[::-1]"
   ]
  },
  {
   "cell_type": "code",
   "execution_count": null,
   "id": "b3093d79",
   "metadata": {},
   "outputs": [],
   "source": [
    "my_str = 'Pythonic' #strings are also collections of single charactes\n",
    "\n",
    "# Iterating backward through a string\n",
    "[char for char in reversed(my_str)]"
   ]
  },
  {
   "cell_type": "markdown",
   "id": "2c57a27b",
   "metadata": {},
   "source": [
    "## Using Negative Indices"
   ]
  },
  {
   "cell_type": "code",
   "execution_count": null,
   "id": "32d8dcbe",
   "metadata": {},
   "outputs": [],
   "source": [
    "my_list"
   ]
  },
  {
   "cell_type": "code",
   "execution_count": null,
   "id": "29393fce",
   "metadata": {},
   "outputs": [],
   "source": [
    "last_element = my_list[-1]\n",
    "last_element"
   ]
  },
  {
   "cell_type": "code",
   "execution_count": null,
   "id": "8f6da6df",
   "metadata": {},
   "outputs": [],
   "source": [
    "subset = my_list[-3:-1]\n",
    "subset"
   ]
  },
  {
   "cell_type": "code",
   "execution_count": null,
   "id": "177e64fb",
   "metadata": {},
   "outputs": [],
   "source": [
    "my_list = my_list * 3\n",
    "my_list"
   ]
  },
  {
   "cell_type": "markdown",
   "id": "efc592b7",
   "metadata": {},
   "source": [
    "## Strings and Slicing"
   ]
  },
  {
   "cell_type": "code",
   "execution_count": 85,
   "id": "8a71aab0",
   "metadata": {},
   "outputs": [
    {
     "data": {
      "text/plain": [
       "'yth'"
      ]
     },
     "execution_count": 85,
     "metadata": {},
     "output_type": "execute_result"
    }
   ],
   "source": [
    "my_str = \"Pythonic\"\n",
    "substring = my_str[1:4]\n",
    "substring"
   ]
  },
  {
   "cell_type": "code",
   "execution_count": 86,
   "id": "8e8d3bcc",
   "metadata": {},
   "outputs": [
    {
     "data": {
      "text/plain": [
       "'Ptoi'"
      ]
     },
     "execution_count": 86,
     "metadata": {},
     "output_type": "execute_result"
    }
   ],
   "source": [
    "skipped_string = my_str[::2]\n",
    "skipped_string"
   ]
  },
  {
   "cell_type": "code",
   "execution_count": 87,
   "id": "d8942737",
   "metadata": {},
   "outputs": [
    {
     "data": {
      "text/plain": [
       "'cinohtyP'"
      ]
     },
     "execution_count": 87,
     "metadata": {},
     "output_type": "execute_result"
    }
   ],
   "source": [
    "reversed_string = my_str[::-1]\n",
    "reversed_string"
   ]
  },
  {
   "cell_type": "markdown",
   "id": "8d9225c3",
   "metadata": {},
   "source": [
    "**f-strings - most efficient to initialize**"
   ]
  },
  {
   "cell_type": "code",
   "execution_count": 88,
   "id": "3b90ba63-83e6-4a80-a6a1-091a74278f35",
   "metadata": {},
   "outputs": [
    {
     "data": {
      "text/plain": [
       "'my string is Pythonic'"
      ]
     },
     "execution_count": 88,
     "metadata": {},
     "output_type": "execute_result"
    }
   ],
   "source": [
    "f'my string is {my_str}'"
   ]
  },
  {
   "cell_type": "code",
   "execution_count": 89,
   "id": "aa16a3bc-3887-40ab-bdb9-93f9d69a143c",
   "metadata": {},
   "outputs": [
    {
     "data": {
      "text/plain": [
       "'my string is Pythonic, no kidding!'"
      ]
     },
     "execution_count": 89,
     "metadata": {},
     "output_type": "execute_result"
    }
   ],
   "source": [
    "f'my string is {my_str+ \", no kidding!\"}' # notice the \"\" in f string"
   ]
  },
  {
   "cell_type": "code",
   "execution_count": 92,
   "id": "b5c4ab02-7e0c-4de8-8fa1-df302ca814f0",
   "metadata": {},
   "outputs": [
    {
     "data": {
      "text/plain": [
       "'Python is fantastic!'"
      ]
     },
     "execution_count": 92,
     "metadata": {},
     "output_type": "execute_result"
    }
   ],
   "source": [
    "# Example: Converting, replacing, and formatting strings\n",
    "original = \"Python is fun\"\n",
    "formatted = original.upper().replace(\"fun\", \"fantastic\")\n",
    "final = f\"{formatted}!\"\n",
    "final"
   ]
  },
  {
   "cell_type": "code",
   "execution_count": 95,
   "id": "2076e192-1526-45c2-9825-eb2f649e8b82",
   "metadata": {},
   "outputs": [
    {
     "data": {
      "text/plain": [
       "'Pi is 3.1428571428571428'"
      ]
     },
     "execution_count": 95,
     "metadata": {},
     "output_type": "execute_result"
    }
   ],
   "source": [
    "f\"Pi is {22/7:.16f}\" # rounding floats in strings"
   ]
  },
  {
   "cell_type": "code",
   "execution_count": 96,
   "id": "a76c0ca6-c41b-4710-ae0d-00fd842a7c99",
   "metadata": {},
   "outputs": [
    {
     "data": {
      "text/plain": [
       "6"
      ]
     },
     "execution_count": 96,
     "metadata": {},
     "output_type": "execute_result"
    }
   ],
   "source": [
    "len(\"Python\") # number of characters"
   ]
  },
  {
   "cell_type": "code",
   "execution_count": null,
   "id": "94bf644f-3d67-4752-a571-f016cc5e4f7f",
   "metadata": {},
   "outputs": [],
   "source": [
    "my_str"
   ]
  },
  {
   "cell_type": "code",
   "execution_count": 97,
   "id": "4e6af8ed-aaa2-4709-a3bd-ee42c8e80c61",
   "metadata": {},
   "outputs": [
    {
     "data": {
      "text/plain": [
       "[0, 1, 2, 'hi', 4, 5, 6, 7, 8, 9]"
      ]
     },
     "execution_count": 97,
     "metadata": {},
     "output_type": "execute_result"
    }
   ],
   "source": [
    "# You can change an element of a list\n",
    "my_arr = list(range(10))\n",
    "my_arr[3] = 'hi'\n",
    "my_arr"
   ]
  },
  {
   "cell_type": "code",
   "execution_count": 98,
   "id": "b1fe3ab4-9644-4750-ad3b-296038d99bb7",
   "metadata": {},
   "outputs": [
    {
     "ename": "TypeError",
     "evalue": "'str' object does not support item assignment",
     "output_type": "error",
     "traceback": [
      "\u001b[31m---------------------------------------------------------------------------\u001b[39m",
      "\u001b[31mTypeError\u001b[39m                                 Traceback (most recent call last)",
      "\u001b[36mCell\u001b[39m\u001b[36m \u001b[39m\u001b[32mIn[98]\u001b[39m\u001b[32m, line 1\u001b[39m\n\u001b[32m----> \u001b[39m\u001b[32m1\u001b[39m \u001b[43mmy_str\u001b[49m\u001b[43m[\u001b[49m\u001b[32;43m2\u001b[39;49m\u001b[43m]\u001b[49m = \u001b[33m'\u001b[39m\u001b[33mZ\u001b[39m\u001b[33m'\u001b[39m \u001b[38;5;66;03m#immutable \u001b[39;00m\n",
      "\u001b[31mTypeError\u001b[39m: 'str' object does not support item assignment"
     ]
    }
   ],
   "source": [
    "my_str[2] = 'Z' #immutable "
   ]
  },
  {
   "cell_type": "code",
   "execution_count": 65,
   "id": "6664d12e-d107-4f0b-a403-56f87a8e4462",
   "metadata": {},
   "outputs": [],
   "source": [
    "# TypeError: 'str' object does not support item assignment is called Exception\n",
    "# more on these later"
   ]
  },
  {
   "cell_type": "markdown",
   "id": "3530da72",
   "metadata": {},
   "source": [
    "Printing strings"
   ]
  },
  {
   "cell_type": "code",
   "execution_count": 99,
   "id": "41d13632",
   "metadata": {},
   "outputs": [],
   "source": [
    "quote = \"xx\""
   ]
  },
  {
   "cell_type": "code",
   "execution_count": 100,
   "id": "2a7a97f1",
   "metadata": {},
   "outputs": [],
   "source": [
    "escaped = \"This is a \" +quote +\".\""
   ]
  },
  {
   "cell_type": "code",
   "execution_count": 101,
   "id": "8cc14d27",
   "metadata": {},
   "outputs": [
    {
     "name": "stdout",
     "output_type": "stream",
     "text": [
      "This is a xx.\n"
     ]
    }
   ],
   "source": [
    "print(escaped)"
   ]
  },
  {
   "cell_type": "code",
   "execution_count": 104,
   "id": "2ef5e858-2927-4f95-8cdb-166107290964",
   "metadata": {},
   "outputs": [
    {
     "name": "stdout",
     "output_type": "stream",
     "text": [
      "This is a \"quote\".\n",
      "------\n",
      "This is a line.\n",
      "And this is another.\n",
      "And another one.\n",
      "Or more lines\n"
     ]
    }
   ],
   "source": [
    "escaped = \"This is a \\\"quote\\\".\"\n",
    "newline = \"This is a line.\\nAnd this is another.\\nAnd another one.\\nOr more lines\"\n",
    "print(escaped)\n",
    "print('------')\n",
    "print(newline)"
   ]
  },
  {
   "cell_type": "code",
   "execution_count": 105,
   "id": "047b4d09-8bf5-4d97-98f5-2a776e7881fe",
   "metadata": {},
   "outputs": [
    {
     "data": {
      "text/plain": [
       "'This is a snowman: ☃'"
      ]
     },
     "execution_count": 105,
     "metadata": {},
     "output_type": "execute_result"
    }
   ],
   "source": [
    "\"This is a snowman: \\u2603\""
   ]
  },
  {
   "cell_type": "code",
   "execution_count": 108,
   "id": "b7d12168-3723-41dc-9e46-6f1b6d345951",
   "metadata": {},
   "outputs": [
    {
     "name": "stdout",
     "output_type": "stream",
     "text": [
      "This is a\n",
      "multiline string.\n"
     ]
    }
   ],
   "source": [
    "multiline = \"\"\"This is a\n",
    "multiline string.\"\"\"\n",
    "print(multiline) # the end of line is implicit, compared to \\n"
   ]
  },
  {
   "cell_type": "code",
   "execution_count": 109,
   "id": "8f41c9be",
   "metadata": {},
   "outputs": [],
   "source": [
    "# Create a simple csv string\n",
    "csv = \"1,2,3,4,5\""
   ]
  },
  {
   "cell_type": "code",
   "execution_count": 109,
   "id": "45c2c8d8-ae64-4bda-825f-f0d6eabd1eef",
   "metadata": {},
   "outputs": [
    {
     "name": "stdout",
     "output_type": "stream",
     "text": [
      "l,i,s,t,_,m,e,_,t,o,_,c,s,v\n",
      "\n"
     ]
    }
   ],
   "source": [
    "# Create simple csv\n",
    "to_csv = ('list_me_to_csv') \n",
    "print(','.join(to_csv)+\"\\n\")# add line break - bonus -> how to write it to file end of lecture"
   ]
  },
  {
   "cell_type": "code",
   "execution_count": 110,
   "id": "f9c6ec83-5336-4424-8347-c1b3db2e4b65",
   "metadata": {},
   "outputs": [
    {
     "name": "stdout",
     "output_type": "stream",
     "text": [
      "item1☃item2☃item3\n"
     ]
    }
   ],
   "source": [
    "print('\\u2603'.join(['item1','item2','item3']))"
   ]
  },
  {
   "cell_type": "code",
   "execution_count": 112,
   "id": "57b265bf-c8ad-4466-9d48-f263d7acc72d",
   "metadata": {},
   "outputs": [
    {
     "ename": "TypeError",
     "evalue": "'list' object is not callable",
     "output_type": "error",
     "traceback": [
      "\u001b[31m---------------------------------------------------------------------------\u001b[39m",
      "\u001b[31mTypeError\u001b[39m                                 Traceback (most recent call last)",
      "\u001b[36mCell\u001b[39m\u001b[36m \u001b[39m\u001b[32mIn[112]\u001b[39m\u001b[32m, line 2\u001b[39m\n\u001b[32m      1\u001b[39m \u001b[38;5;66;03m# create manual csv file with integers\u001b[39;00m\n\u001b[32m----> \u001b[39m\u001b[32m2\u001b[39m \u001b[33m'\u001b[39m\u001b[33m,\u001b[39m\u001b[33m'\u001b[39m.join([\u001b[38;5;28;43mstr\u001b[39;49m\u001b[43m(\u001b[49m\u001b[43mel\u001b[49m\u001b[43m)\u001b[49m \u001b[38;5;28;01mfor\u001b[39;00m el \u001b[38;5;129;01min\u001b[39;00m \u001b[38;5;28mlist\u001b[39m(\u001b[38;5;28mrange\u001b[39m(\u001b[32m3\u001b[39m))]) \u001b[38;5;66;03m# items to be joined need to be stringsf\u001b[39;00m\n",
      "\u001b[31mTypeError\u001b[39m: 'list' object is not callable"
     ]
    }
   ],
   "source": [
    "# create manual csv file with integers\n",
    "','.join([str(el) for el in list(range(3))]) # items to be joined need to be stringsf"
   ]
  },
  {
   "cell_type": "code",
   "execution_count": 114,
   "id": "f453a6b4",
   "metadata": {},
   "outputs": [
    {
     "ename": "TypeError",
     "evalue": "'list' object is not callable",
     "output_type": "error",
     "traceback": [
      "\u001b[31m---------------------------------------------------------------------------\u001b[39m",
      "\u001b[31mTypeError\u001b[39m                                 Traceback (most recent call last)",
      "\u001b[36mCell\u001b[39m\u001b[36m \u001b[39m\u001b[32mIn[114]\u001b[39m\u001b[32m, line 1\u001b[39m\n\u001b[32m----> \u001b[39m\u001b[32m1\u001b[39m [\u001b[38;5;28;43mstr\u001b[39;49m\u001b[43m(\u001b[49m\u001b[43mel\u001b[49m\u001b[43m)\u001b[49m \u001b[38;5;28;01mfor\u001b[39;00m el \u001b[38;5;129;01min\u001b[39;00m \u001b[38;5;28mrange\u001b[39m(\u001b[32m3\u001b[39m)]\n",
      "\u001b[31mTypeError\u001b[39m: 'list' object is not callable"
     ]
    }
   ],
   "source": [
    "[str(el) for el in range(3)]"
   ]
  },
  {
   "cell_type": "markdown",
   "id": "39effd52",
   "metadata": {},
   "source": [
    "## Dictionaries"
   ]
  },
  {
   "cell_type": "code",
   "execution_count": 75,
   "id": "9a1150b3-0aa7-4383-9c97-81d25cc03a16",
   "metadata": {},
   "outputs": [],
   "source": [
    "# very useful containers -> quick O(1) access to their values"
   ]
  },
  {
   "cell_type": "code",
   "execution_count": 115,
   "id": "bc8f46d0",
   "metadata": {},
   "outputs": [
    {
     "name": "stdout",
     "output_type": "stream",
     "text": [
      "a 1\n",
      "b 2\n",
      "c 3\n"
     ]
    }
   ],
   "source": [
    "my_dict = {'a': 1, 'b': 2, 'c': 3}\n",
    "for key, value in my_dict.items():\n",
    "    print(key, value)"
   ]
  },
  {
   "cell_type": "code",
   "execution_count": 116,
   "id": "56993a3c-e425-485d-821b-9d6be333e71e",
   "metadata": {},
   "outputs": [
    {
     "name": "stdout",
     "output_type": "stream",
     "text": [
      "1\n"
     ]
    }
   ],
   "source": [
    "# Creating and accessing elements\n",
    "print(my_dict['a'])  # Output: 1"
   ]
  },
  {
   "cell_type": "code",
   "execution_count": 119,
   "id": "3db58c5d",
   "metadata": {},
   "outputs": [
    {
     "data": {
      "text/plain": [
       "{0: 0, 1: 1, 2: 4, 3: 9, 4: 16}"
      ]
     },
     "execution_count": 119,
     "metadata": {},
     "output_type": "execute_result"
    }
   ],
   "source": [
    "squares = {x: x**2 for x in range(5)}\n",
    "squares\n",
    "# What is a problem?"
   ]
  },
  {
   "cell_type": "code",
   "execution_count": 118,
   "id": "04891977-538b-4ee6-8f8b-51ab3d539546",
   "metadata": {},
   "outputs": [
    {
     "data": {
      "text/plain": [
       "{'key': 'hi'}"
      ]
     },
     "execution_count": 118,
     "metadata": {},
     "output_type": "execute_result"
    }
   ],
   "source": [
    "squares['key']='hi'\n",
    "squares"
   ]
  },
  {
   "cell_type": "code",
   "execution_count": null,
   "id": "d3da64a9",
   "metadata": {},
   "outputs": [],
   "source": [
    "even_squares = {x: x**2 for x in range(5) if x % 2 == 0}\n",
    "even_squares"
   ]
  },
  {
   "cell_type": "code",
   "execution_count": 120,
   "id": "9d56ccd9",
   "metadata": {},
   "outputs": [
    {
     "data": {
      "text/plain": [
       "{'a': 1, 'b': 4, 'c': 3}"
      ]
     },
     "execution_count": 120,
     "metadata": {},
     "output_type": "execute_result"
    }
   ],
   "source": [
    "dict1 = {'a': 1, 'b': 2}\n",
    "dict2 = {'c': 3, 'b': 4}\n",
    "merged = {**dict1, **dict2}\n",
    "merged"
   ]
  },
  {
   "cell_type": "code",
   "execution_count": 121,
   "id": "9ee70b5c-b594-4f0e-a296-9ef583a7cfb0",
   "metadata": {},
   "outputs": [
    {
     "data": {
      "text/plain": [
       "{'a': 1, 'b': 4, 'c': 3}"
      ]
     },
     "execution_count": 121,
     "metadata": {},
     "output_type": "execute_result"
    }
   ],
   "source": [
    "dict1 | dict2 # shorthand for before - fancy syntax! (union, logical or)...look up if interested"
   ]
  },
  {
   "cell_type": "code",
   "execution_count": null,
   "id": "453f6fd1",
   "metadata": {},
   "outputs": [],
   "source": [
    "my_dict"
   ]
  },
  {
   "cell_type": "code",
   "execution_count": null,
   "id": "cc514d6c-13a6-4cb7-a048-6260e9f60e66",
   "metadata": {},
   "outputs": [],
   "source": [
    "# Using dictionary comprehension - notice similar behavior like array\n",
    "squared_dict = {k: v**2 for k, v in my_dict.items()}\n",
    "squared_dict"
   ]
  },
  {
   "cell_type": "markdown",
   "id": "d75137a3-a204-4d34-8bef-58775e0d9d4b",
   "metadata": {},
   "source": [
    "dir(my_dict)"
   ]
  },
  {
   "cell_type": "code",
   "execution_count": 122,
   "id": "5ab1085a-e299-42ef-8665-47679629c8b9",
   "metadata": {},
   "outputs": [
    {
     "name": "stdout",
     "output_type": "stream",
     "text": [
      "a: 1\n",
      "b: 2\n",
      "c: 3\n"
     ]
    }
   ],
   "source": [
    "# Iterating through keys and values\n",
    "for key, value in my_dict.items():\n",
    "    print(f\"{key}: {value}\")"
   ]
  },
  {
   "cell_type": "code",
   "execution_count": 125,
   "id": "0c94e533",
   "metadata": {},
   "outputs": [
    {
     "name": "stdout",
     "output_type": "stream",
     "text": [
      "1\n",
      "2\n",
      "3\n"
     ]
    }
   ],
   "source": [
    "for key in my_dict.values():\n",
    "    print(key)"
   ]
  },
  {
   "cell_type": "code",
   "execution_count": 130,
   "id": "54fd8766-1c62-45df-82cd-5f6be0ae25d6",
   "metadata": {},
   "outputs": [
    {
     "data": {
      "text/plain": [
       "'NO'"
      ]
     },
     "execution_count": 130,
     "metadata": {},
     "output_type": "execute_result"
    }
   ],
   "source": [
    "# Accessing\n",
    "\n",
    "# my_dict.get('a')\n",
    "# my_dict['d']\n",
    "my_dict.get('d', 'NO')"
   ]
  },
  {
   "cell_type": "code",
   "execution_count": null,
   "id": "26e8a32a-6caf-41e6-a5c8-12389ea0097b",
   "metadata": {},
   "outputs": [],
   "source": [
    "# Iterating through keys, values, and items individually\n",
    "my_dict = {'a': 1, 'b': 2, 'c': 3}\n",
    "\n",
    "for key in my_dict.keys():\n",
    "    print(key)\n",
    "\n",
    "for value in my_dict.values():\n",
    "    print(value)\n",
    "\n",
    "for key, value in my_dict.items():\n",
    "    print(key, value)\n",
    "\n",
    "# best is last one, always can omit value"
   ]
  },
  {
   "cell_type": "code",
   "execution_count": null,
   "id": "3cc7c0ea-7334-41de-84ac-bbef416f8e82",
   "metadata": {},
   "outputs": [],
   "source": [
    "my_dict"
   ]
  },
  {
   "cell_type": "code",
   "execution_count": 135,
   "id": "c5c87c27-af87-43d4-9589-6fe183da8d6a",
   "metadata": {},
   "outputs": [],
   "source": [
    "# Using get, pop, and update\n",
    "# value = my_dict.get('a', 0)  # Get value with a default\n",
    "# my_dict.pop('b', 0)  # Remove item, default if not found\n",
    "my_dict.update({'d': 4, 'e': 6})  # Add multiple key-value pairs"
   ]
  },
  {
   "cell_type": "code",
   "execution_count": null,
   "id": "979ddf41",
   "metadata": {},
   "outputs": [],
   "source": [
    "my_dict.pop('b', 0)  # Output: 0"
   ]
  },
  {
   "cell_type": "code",
   "execution_count": 136,
   "id": "4c297275",
   "metadata": {},
   "outputs": [
    {
     "data": {
      "text/plain": [
       "{'a': 1, 'c': 3, 'd': 4, 'e': 6}"
      ]
     },
     "execution_count": 136,
     "metadata": {},
     "output_type": "execute_result"
    }
   ],
   "source": [
    "my_dict"
   ]
  },
  {
   "cell_type": "markdown",
   "id": "ddc19af0",
   "metadata": {},
   "source": [
    "## Sets"
   ]
  },
  {
   "cell_type": "code",
   "execution_count": 119,
   "id": "9e6f0824",
   "metadata": {},
   "outputs": [],
   "source": [
    "x = {1, 2, 3}"
   ]
  },
  {
   "cell_type": "code",
   "execution_count": null,
   "id": "62b5c2aa",
   "metadata": {},
   "outputs": [],
   "source": [
    "my_set = x\n",
    "my_set.add(4)\n",
    "my_set"
   ]
  },
  {
   "cell_type": "code",
   "execution_count": null,
   "id": "2c1a412a",
   "metadata": {},
   "outputs": [],
   "source": [
    "another_set = {3, 4, 5}\n",
    "union_set = my_set.union(another_set)\n",
    "intersection_set = my_set.intersection(another_set)\n",
    "difference_set = my_set.difference(another_set)\n",
    "union_set, intersection_set, difference_set\n",
    "\n",
    "# useful with strings, Getting subsets of some collections"
   ]
  },
  {
   "cell_type": "code",
   "execution_count": null,
   "id": "2d7bf9c0-0624-484b-8b1e-0b8a2bdf50f0",
   "metadata": {},
   "outputs": [],
   "source": [
    "# Using set comprehension\n",
    "squared_set = {x**2 for x in my_set}\n",
    "squared_set"
   ]
  },
  {
   "cell_type": "markdown",
   "id": "75f0a72c",
   "metadata": {},
   "source": [
    "## Tuples"
   ]
  },
  {
   "cell_type": "code",
   "execution_count": null,
   "id": "fe9e2277",
   "metadata": {},
   "outputs": [],
   "source": [
    "my_tuple = (1, \"apple\", 3.14)\n",
    "element = my_tuple[1]\n",
    "element"
   ]
  },
  {
   "cell_type": "code",
   "execution_count": null,
   "id": "e2d8d434",
   "metadata": {},
   "outputs": [],
   "source": [
    "x, y, z = my_tuple # Get individual values easily (same in .items() in dictionaries\n",
    "x, y, z"
   ]
  },
  {
   "cell_type": "code",
   "execution_count": null,
   "id": "32ca76fb",
   "metadata": {},
   "outputs": [],
   "source": [
    "nested_data = {\n",
    "    'fruit': {'apple': 3, 'banana': 5},\n",
    "    'vegetable': {'carrot': 4, 'pepper': 7}\n",
    "}\n",
    "\n",
    "for key, value in nested_data.items():\n",
    "    print(f\"{key}:\")\n",
    "    for inner_key, inner_value in value.items():\n",
    "        print(f\"  {inner_key}: {inner_value}\")"
   ]
  },
  {
   "cell_type": "markdown",
   "id": "08d061a2",
   "metadata": {},
   "source": [
    "## Defaultdict"
   ]
  },
  {
   "cell_type": "code",
   "execution_count": null,
   "id": "3914d594",
   "metadata": {},
   "outputs": [],
   "source": [
    "from collections import defaultdict # import library, top of the script!!\n",
    "\n",
    "fruits = ['apple', 'banana', 'cherry', 'apple', 'apple','cherry'] #could how many of each we have\n",
    "fruit_counts = defaultdict(int)\n",
    "fruit_counts"
   ]
  },
  {
   "cell_type": "code",
   "execution_count": null,
   "id": "b4325853",
   "metadata": {},
   "outputs": [],
   "source": [
    "for fruit in fruits:\n",
    "    fruit_counts[fruit] += 1\n",
    "fruit_counts"
   ]
  },
  {
   "cell_type": "code",
   "execution_count": 16,
   "id": "554f55c3-d5ba-4bde-9686-773f6152d0bc",
   "metadata": {},
   "outputs": [],
   "source": [
    "# Using list as a default factory - too sophisticated, but why not\n",
    "words = [\"apple\", \"banana\", \"cherry\", \"apple\", \"banana\"]\n",
    "word_count = defaultdict(list)\n",
    "\n",
    "for word in words:\n",
    "    word_count[word].append(1)"
   ]
  },
  {
   "cell_type": "code",
   "execution_count": null,
   "id": "2d923173",
   "metadata": {},
   "outputs": [],
   "source": [
    "word_count"
   ]
  },
  {
   "cell_type": "code",
   "execution_count": null,
   "id": "0ee24e2e",
   "metadata": {},
   "outputs": [],
   "source": [
    "# Summing counts\n",
    "word_sum = {word: sum(counts) for word, counts in word_count.items()}\n",
    "word_sum"
   ]
  },
  {
   "cell_type": "code",
   "execution_count": 19,
   "id": "1bc4889b-b766-42ab-86bb-ac1bb04965bf",
   "metadata": {},
   "outputs": [],
   "source": [
    "# Useful when we do not know how many items we will get (keys in dict)\n",
    "\n",
    "# Using int as a default factory\n",
    "word_count = defaultdict(int)\n",
    "\n",
    "for word in words:\n",
    "    word_count[word] += 1"
   ]
  },
  {
   "cell_type": "code",
   "execution_count": null,
   "id": "be6fe308",
   "metadata": {},
   "outputs": [],
   "source": [
    "word_count"
   ]
  },
  {
   "cell_type": "code",
   "execution_count": 21,
   "id": "212b3768-0348-4c46-92ac-b304e31ee580",
   "metadata": {},
   "outputs": [],
   "source": [
    "# Sample data: (category, item)\n",
    "data = [\n",
    "    (\"fruit\", \"apple\"),\n",
    "    (\"fruit\", \"banana\"),\n",
    "    (\"fruit\", \"apple\"),\n",
    "    (\"veggie\", \"carrot\"),\n",
    "    (\"veggie\", \"potato\"),\n",
    "    (\"veggie\", \"carrot\"),\n",
    "    (\"veggie\", \"potato\"),\n",
    "    (\"veggie\", \"potato\"),\n",
    "    (\"fruit\", \"banana\"),\n",
    "]"
   ]
  },
  {
   "cell_type": "code",
   "execution_count": 22,
   "id": "076f1671",
   "metadata": {},
   "outputs": [],
   "source": [
    "# A nested defaultdict to store counts\n",
    "counter = defaultdict(lambda: defaultdict(int))"
   ]
  },
  {
   "cell_type": "code",
   "execution_count": null,
   "id": "49e30c31",
   "metadata": {},
   "outputs": [],
   "source": [
    "counter"
   ]
  },
  {
   "cell_type": "code",
   "execution_count": 24,
   "id": "35cea646",
   "metadata": {},
   "outputs": [],
   "source": [
    "# Counting items in categories\n",
    "for category, item in data:\n",
    "    counter[category][item] += 1"
   ]
  },
  {
   "cell_type": "code",
   "execution_count": null,
   "id": "ffa218ab",
   "metadata": {},
   "outputs": [],
   "source": [
    "counter"
   ]
  },
  {
   "cell_type": "code",
   "execution_count": null,
   "id": "3e7d433b",
   "metadata": {},
   "outputs": [],
   "source": [
    "# Display counts\n",
    "for category, items in counter.items():\n",
    "    print(f\"{category.capitalize()}s:\")\n",
    "    for item, count in items.items():\n",
    "        print(f\"  {item}: {count}\")"
   ]
  },
  {
   "cell_type": "markdown",
   "id": "91ac1579-5f44-47a2-bb28-04accf5f82f0",
   "metadata": {},
   "source": [
    "## Functions in Python\n",
    "\n",
    "Functions are foundational in Python for creating reusable, organized, and modular code. \n",
    "Modular code can be easily maintained"
   ]
  },
  {
   "cell_type": "code",
   "execution_count": null,
   "id": "2bf16110-d958-42ff-9608-df190e02139e",
   "metadata": {},
   "outputs": [],
   "source": [
    "# 1. Defining and Calling Functions\n",
    "# Definition: Using the def keyword.\n",
    "# Calling: Using the function name followed by parentheses.\n",
    "\n",
    "def greet():\n",
    "    print(\"Hello, World!\")\n",
    "\n",
    "greet()"
   ]
  },
  {
   "cell_type": "code",
   "execution_count": null,
   "id": "c6f42dea-6b88-43c7-b922-4f6d395cce54",
   "metadata": {},
   "outputs": [],
   "source": [
    "# 2. Parameters and Arguments\n",
    "# Parameters: Variables listed inside the parentheses in the function definition.\n",
    "# Arguments: Values sent to the function when it is called.\n",
    "\n",
    "def greet(name):\n",
    "    print(f\"Hello, {name}!\")\n",
    "\n",
    "greet()"
   ]
  },
  {
   "cell_type": "code",
   "execution_count": null,
   "id": "10e1bba1-0024-46a3-a9e5-5393d73e2f08",
   "metadata": {},
   "outputs": [],
   "source": [
    "# 3. Default Parameter Values\n",
    "# Specify a default value for a parameter that will be used if the function is called without an argument for that parameter.\n",
    "\n",
    "def greet(name=\"World\"):\n",
    "    print(f\"Hello, {name}!\")\n",
    "\n",
    "greet()\n",
    "greet(\"Python\")"
   ]
  },
  {
   "cell_type": "code",
   "execution_count": 164,
   "id": "9613fc54-7ed1-4d14-b171-6df0e83e6997",
   "metadata": {},
   "outputs": [],
   "source": [
    "# 4. Return Values\n",
    "# Using the return statement to let a function return a value.\n",
    "\n",
    "def add(a, b):\n",
    "    return a + b\n",
    "\n",
    "result = add(3, 4)"
   ]
  },
  {
   "cell_type": "code",
   "execution_count": null,
   "id": "d0c7ef3e-c58e-4661-95b4-d7b32bf26d37",
   "metadata": {},
   "outputs": [],
   "source": [
    "# 5. Variable Scope\n",
    "# Understanding of local and global variable scope\n",
    "\n",
    "def my_function():\n",
    "    local_var = 10  # Local variable\n",
    "    print(local_var)\n",
    "\n",
    "global_var = 5  # Global variable - not a good practice, but nevertheless possible. Drawback of notebook structure in general.\n",
    "my_function()\n",
    "print(global_var)"
   ]
  },
  {
   "cell_type": "code",
   "execution_count": null,
   "id": "c314e2e0-43d1-41b3-9b97-b07f253fc394",
   "metadata": {},
   "outputs": [],
   "source": [
    "# 6. Positional vs. Keyword Arguments\n",
    "# Positional arguments: Must be passed in the correct positional order.\n",
    "# Keyword arguments: Passed by keyword and can be in any order.\n",
    "\n",
    "def example_function(arg1, arg2):\n",
    "    print(arg1, arg2)\n",
    "\n",
    "example_function(1, 2)  # Positional\n",
    "example_function(arg2=2, arg1=1)  # Keyword"
   ]
  },
  {
   "cell_type": "code",
   "execution_count": null,
   "id": "73717cab-41b8-4f22-a433-3d087cff9d01",
   "metadata": {},
   "outputs": [],
   "source": [
    "# 7. Arbitrary Argument Lists\n",
    "# *args: For arbitrary number of positional arguments.\n",
    "# **kwargs: For arbitrary number of keyword arguments.\n",
    "\n",
    "def example_function(*args, **kwargs):\n",
    "    print(args)  # Tuple\n",
    "    print(kwargs)  # Dictionary\n",
    "\n",
    "example_function(1, 2, 3, a=4, b=5)"
   ]
  },
  {
   "cell_type": "code",
   "execution_count": null,
   "id": "356b2937-29b5-4a19-a561-1f839d1ff9fc",
   "metadata": {},
   "outputs": [],
   "source": [
    "# 8. Lambda Functions\n",
    "# Anonymous functions defined with the lambda keyword.\n",
    "\n",
    "square = lambda x: x ** 2\n",
    "print(square(4))"
   ]
  },
  {
   "cell_type": "code",
   "execution_count": 127,
   "id": "dc100338-4b05-4970-9ef8-2bbb2d879510",
   "metadata": {},
   "outputs": [],
   "source": [
    "# 9. Docstrings\n",
    "# Documentation strings providing a description of the function's purpose.\n",
    "\n",
    "def greet():\n",
    "    \"\"\"\n",
    "    This function prints a greeting.\n",
    "    \"\"\"\n",
    "    print(\"Hello, World!\")"
   ]
  },
  {
   "cell_type": "code",
   "execution_count": null,
   "id": "0d9dc152",
   "metadata": {},
   "outputs": [],
   "source": [
    "greet()"
   ]
  },
  {
   "cell_type": "code",
   "execution_count": null,
   "id": "fb2a8722-08e7-4aaa-ab26-6a0467c761ee",
   "metadata": {},
   "outputs": [],
   "source": [
    "# 10. Recursion - very important concept!\n",
    "\n",
    "# Functions calling themselves to solve problems.\n",
    "def factorial(n):\n",
    "    return 1 if n == 0 else n * factorial(n-1)\n",
    "\n",
    "print(factorial(3))"
   ]
  },
  {
   "cell_type": "code",
   "execution_count": null,
   "id": "0ef00fa5-2183-4596-b822-f437e2ee3801",
   "metadata": {},
   "outputs": [],
   "source": [
    "# 11. First-Class Functions\n",
    "# Functions in Python are first-class citizens, meaning they can be passed around and used as arguments.\n",
    "\n",
    "def greet():\n",
    "    return \"Hello, World!\"\n",
    "\n",
    "def shout(func):\n",
    "    print(func().upper()) #calling on some objects passed as input to function. Like trying 5(), but still possible.\n",
    "\n",
    "shout(greet)"
   ]
  },
  {
   "cell_type": "code",
   "execution_count": null,
   "id": "3c2011ca-4f9c-4833-af4c-f05e8153ddf8",
   "metadata": {},
   "outputs": [],
   "source": [
    "# 12. Decorators \n",
    "\n",
    "# Functions that modify the behavior of other functions.\n",
    "\n",
    "def my_decorator(func):\n",
    "    def wrapper():\n",
    "        print(\"Something is happening before the function is called.\")\n",
    "        func()\n",
    "        print(f\"Something is happening after the function '{func.__name__}' is called.\")\n",
    "    return wrapper\n",
    "\n",
    "@my_decorator\n",
    "def greet():\n",
    "    print(\"Hello, World! - inside greet\")\n",
    "\n",
    "greet()"
   ]
  },
  {
   "cell_type": "markdown",
   "id": "30c7a307-759d-426d-a147-2b5152f0b2cf",
   "metadata": {},
   "source": [
    "## Input/Output (I/O) Operations in Python"
   ]
  },
  {
   "cell_type": "code",
   "execution_count": 132,
   "id": "053772be-d296-429c-8c16-486cbcd1baa2",
   "metadata": {},
   "outputs": [],
   "source": [
    "# Handling I/O operations effectively is crucial for various applications. \n",
    "\n",
    "# 1. Basic File I/O\n",
    "# Reading and Writing Text Files"
   ]
  },
  {
   "cell_type": "code",
   "execution_count": 133,
   "id": "c8bc46ce",
   "metadata": {},
   "outputs": [],
   "source": [
    "# Open file and return a corresponding file object.\n",
    "# file = open(\"file.txt\", \"r\")\n",
    "# permission: 'r' for reading, 'w' for writing, 'a' for appending, 'r+' for reading and writing."
   ]
  },
  {
   "cell_type": "code",
   "execution_count": 178,
   "id": "8430fcfc-ddfe-4bd0-851c-ea04fbc0ff8a",
   "metadata": {},
   "outputs": [],
   "source": [
    "# Writing to a file\n",
    "with open('example.txt', 'w') as file:\n",
    "    file.write(\"Hello, Python\")"
   ]
  },
  {
   "cell_type": "code",
   "execution_count": null,
   "id": "da94256b-3171-4c22-8d66-6cdf22501a8e",
   "metadata": {},
   "outputs": [],
   "source": [
    "# Reading from a file\n",
    "with open('example.txt', 'r') as file:\n",
    "    content = file.read()\n",
    "    print(content)"
   ]
  },
  {
   "cell_type": "code",
   "execution_count": null,
   "id": "2565c6a6-7a89-4b4b-b414-c372f4e73f0d",
   "metadata": {},
   "outputs": [],
   "source": [
    "# Reading file line by line\n",
    "with open('example.txt', 'r') as file:\n",
    "    for line in file:\n",
    "        print(line)"
   ]
  },
  {
   "cell_type": "markdown",
   "id": "3dcb2dfd",
   "metadata": {},
   "source": [
    "\"The so-called CSV (Comma Separated Values) format is the most common import and export format for spreadsheets and databases.\""
   ]
  },
  {
   "cell_type": "code",
   "execution_count": 10,
   "id": "327faf3b-46f9-494e-b227-c7613e7de5b1",
   "metadata": {},
   "outputs": [],
   "source": [
    "import csv\n",
    "\n",
    "data = [[\"Name\", \"Age\"], [\"Alice\", 30], [\"Bob\", 28]]\n",
    "\n",
    "# Writing to a CSV file\n",
    "with open('people.csv', 'w', newline='') as file:\n",
    "    writer = csv.writer(file)\n",
    "    writer.writerows(data)"
   ]
  },
  {
   "cell_type": "code",
   "execution_count": null,
   "id": "42e81473-ea6b-41a7-b29b-0b32dea575ce",
   "metadata": {},
   "outputs": [],
   "source": [
    "# Reading from a CSV file\n",
    "with open('people.csv', 'r') as file:\n",
    "    reader = csv.reader(file)\n",
    "    for row in reader:\n",
    "        print(row)"
   ]
  },
  {
   "cell_type": "code",
   "execution_count": null,
   "id": "ee32032a-a276-4fc1-9e77-0ec112b67420",
   "metadata": {},
   "outputs": [],
   "source": [
    "try:\n",
    "    with open('nonexistent.txt', 'r') as file:\n",
    "        content = file.read()\n",
    "except FileNotFoundError:\n",
    "    print(\"File not found.\")"
   ]
  },
  {
   "cell_type": "markdown",
   "id": "c424967e",
   "metadata": {},
   "source": [
    "OS library\n",
    "\n",
    "\"Miscellaneous operating system interfaces\""
   ]
  },
  {
   "cell_type": "code",
   "execution_count": null,
   "id": "d1282dcb-f59e-4b1f-b3e4-cf99506855ef",
   "metadata": {},
   "outputs": [],
   "source": [
    "import os # operating system dependent functionality\n",
    "\n",
    "# List directory content\n",
    "print(os.listdir('.'))"
   ]
  },
  {
   "cell_type": "code",
   "execution_count": 14,
   "id": "1d83ff9c",
   "metadata": {},
   "outputs": [],
   "source": [
    "# Change directory\n",
    "os.chdir('./')"
   ]
  },
  {
   "cell_type": "code",
   "execution_count": null,
   "id": "9c853704",
   "metadata": {},
   "outputs": [],
   "source": [
    "# Get current directory\n",
    "current_dir = os.getcwd()\n",
    "print(current_dir)"
   ]
  },
  {
   "cell_type": "code",
   "execution_count": 16,
   "id": "b82a2976",
   "metadata": {},
   "outputs": [],
   "source": [
    "# Join paths\n",
    "path = os.path.join(current_dir, 'people.csv')"
   ]
  },
  {
   "cell_type": "code",
   "execution_count": null,
   "id": "bbad71a5-2693-417f-a90f-9324c8673690",
   "metadata": {},
   "outputs": [],
   "source": [
    "path"
   ]
  },
  {
   "cell_type": "markdown",
   "id": "12ccfbad-646e-4ca4-ad39-5e291aa334ff",
   "metadata": {},
   "source": [
    "## Error and Exception Handling in Python\n"
   ]
  },
  {
   "cell_type": "code",
   "execution_count": null,
   "id": "2296202c-f3d8-4ccf-b01e-7957a5245a5a",
   "metadata": {},
   "outputs": [],
   "source": [
    "# 1. Basic Try/Except Block\n",
    "# Handling exceptions with try and except.\n",
    "\n",
    "try:\n",
    "    result = 10 / 0\n",
    "except ZeroDivisionError:\n",
    "    print(\"You can't divide by zero!\")"
   ]
  },
  {
   "cell_type": "code",
   "execution_count": null,
   "id": "545622cc-da80-4a8d-ba3b-e010ee6c17de",
   "metadata": {},
   "outputs": [],
   "source": [
    "# 2. Handling Multiple Exceptions\n",
    "# Catching different exception types.\n",
    "    \n",
    "try:\n",
    "    result = 10 / 0\n",
    "except (TypeError, ZeroDivisionError) as e:\n",
    "    print(f\"An error occurred: {str(e)}\")"
   ]
  },
  {
   "cell_type": "code",
   "execution_count": null,
   "id": "ae583796-6d68-43ed-a6c6-a2e4afe38518",
   "metadata": {},
   "outputs": [],
   "source": [
    "# 3. Else and Finally Clauses\n",
    "# else: Runs when no exception is raised in the try block.\n",
    "# finally: Always runs, whether an exception is raised or not.\n",
    "\n",
    "try:\n",
    "    result = 10 / 0\n",
    "except ZeroDivisionError:\n",
    "    print(\"You can't divide by zero!\")\n",
    "else:\n",
    "    print(f\"Division successful! The result is {result}\")\n",
    "finally:\n",
    "    print(\"This block will run no matter what.\")"
   ]
  },
  {
   "cell_type": "code",
   "execution_count": null,
   "id": "5a2e853a-56cb-4faf-86e2-a685c9223a40",
   "metadata": {},
   "outputs": [],
   "source": [
    "class CustomError(Exception):\n",
    "    pass\n",
    "\n",
    "try:\n",
    "    raise CustomError(\"This is a custom exception\")\n",
    "except CustomError as e:\n",
    "    print(f\"A CustomError occurred: {str(e)}\")"
   ]
  },
  {
   "cell_type": "code",
   "execution_count": null,
   "id": "1f2642bb-b6e1-4736-9ca2-2aff630feb9c",
   "metadata": {},
   "outputs": [],
   "source": [
    "# 5. Assertion and the Assert Statement\n",
    "# Using assert to automatically trigger an exception when a condition is not met.\n",
    "\n",
    "x = -1\n",
    "assert x >= 0, \"Only non-negative numbers are allowed!\""
   ]
  },
  {
   "cell_type": "code",
   "execution_count": null,
   "id": "90dd266e-21f8-4575-b6a4-7f19d8cfd468",
   "metadata": {},
   "outputs": [],
   "source": [
    "# 6. Handling Exceptions in Functions\n",
    "# Creating functions that handle exceptions.\n",
    "# python\n",
    "def safe_divide(a, b):\n",
    "    try:\n",
    "        return a / b\n",
    "    except ZeroDivisionError:\n",
    "        print(\"Can't divide by zero!\")\n",
    "        return None\n",
    "\n",
    "result = safe_divide(10, 0)"
   ]
  },
  {
   "cell_type": "code",
   "execution_count": null,
   "id": "9125ce39-864e-4c3f-81df-b34ddc54506b",
   "metadata": {},
   "outputs": [],
   "source": [
    "# 7. Raising Exceptions\n",
    "# Using raise to trigger an exception.\n",
    "\n",
    "def validate_age(age):\n",
    "    if age < 0:\n",
    "        raise ValueError(\"Age cannot be negative\")\n",
    "\n",
    "try:\n",
    "    validate_age(-1)\n",
    "except ValueError as e:\n",
    "    print(f\"Validation failed: {str(e)}\")"
   ]
  },
  {
   "cell_type": "code",
   "execution_count": null,
   "id": "57216bd4-a74f-46bd-ac12-e46a6c8deebf",
   "metadata": {},
   "outputs": [],
   "source": [
    "# 8. Chaining Exceptions\n",
    "# Using from with raise to chain exceptions and maintain tracebacks.\n",
    "\n",
    "def example():\n",
    "    try:\n",
    "        int(\"not_a_number\")\n",
    "    except ValueError as e:\n",
    "        raise RuntimeError(\"A parsing error occurred\") from e\n",
    "\n",
    "try:\n",
    "    example()\n",
    "except RuntimeError as e:\n",
    "    print(f\"An error occurred: {str(e)}\")\n",
    "    print(f\"Due to: {str(e.__cause__)}\")"
   ]
  },
  {
   "cell_type": "markdown",
   "id": "4115fb83-7962-4b51-95ef-65f7f11d13ac",
   "metadata": {},
   "source": [
    "## simple data pipeline"
   ]
  },
  {
   "cell_type": "code",
   "execution_count": 27,
   "id": "c31cd5b1-cb82-4a62-a4d0-acbd359452e4",
   "metadata": {},
   "outputs": [],
   "source": [
    "# read the data, calculate and display average age\n",
    "def read_data(file_path):\n",
    "    data = []\n",
    "    with open(file_path, 'r') as file:\n",
    "        next(file) # skipping first line as it is header\n",
    "        for line in file:\n",
    "            name, age = line.strip().split(',')\n",
    "            data.append((name, int(age)))\n",
    "    return data\n",
    "\n",
    "def calculate_average_age(data):\n",
    "    total_age = sum(age for _, age in data)\n",
    "    average_age = total_age / len(data)\n",
    "    return average_age\n",
    "\n",
    "def display_average_age(average_age):\n",
    "    print(f\"The average age is: {average_age:.2f}\")\n",
    "\n",
    "def main(file_path):\n",
    "    data = read_data(file_path)\n",
    "    average_age = calculate_average_age(data)\n",
    "    display_average_age(average_age)"
   ]
  },
  {
   "cell_type": "code",
   "execution_count": null,
   "id": "b57cd614-628e-42bb-8de4-d5570e30e810",
   "metadata": {},
   "outputs": [],
   "source": [
    "main(path)"
   ]
  },
  {
   "cell_type": "code",
   "execution_count": null,
   "id": "d2a2aae2-5f9e-4107-ba58-f0da60987de5",
   "metadata": {},
   "outputs": [],
   "source": []
  }
 ],
 "metadata": {
  "kernelspec": {
   "display_name": "Python 3 (ipykernel)",
   "language": "python",
   "name": "python3"
  },
  "language_info": {
   "codemirror_mode": {
    "name": "ipython",
    "version": 3
   },
   "file_extension": ".py",
   "mimetype": "text/x-python",
   "name": "python",
   "nbconvert_exporter": "python",
   "pygments_lexer": "ipython3",
   "version": "3.12.9"
  }
 },
 "nbformat": 4,
 "nbformat_minor": 5
}
