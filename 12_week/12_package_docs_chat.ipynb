{
 "cells": [
  {
   "cell_type": "markdown",
   "metadata": {},
   "source": [
    "# Lecture: Building, Testing, and Documenting a Python Package\n",
    "\n",
    "May 5, 2025"
   ]
  },
  {
   "cell_type": "markdown",
   "metadata": {},
   "source": [
    "Simple manual to create a project and package in python with documentation, testing, etc.\n",
    "\n",
    "USED chatgpt to generate this.\n",
    "\n",
    "**Objective:** Provide an in-depth guide to creating a Python package, loading functions, adding comprehensive tests, and integrating documentation with MkDocs.\n",
    "\n",
    "## Introduction to Python Packages\n",
    "\n",
    "**Definition**: A Python package is a structured collection of modules designed to promote modularity and reusability.\n",
    "\n",
    "**Benefits**:\n",
    "\n",
    "- Organize and manage code logically.\n",
    "- Make code reusable across projects.\n",
    "- Share your work with the Python community via PyPI."
   ]
  },
  {
   "cell_type": "markdown",
   "metadata": {},
   "source": [
    "**Package Structure**:\n",
    "\n",
    "```\n",
    "my_package/\n",
    "├── my_package/\n",
    "│   ├── __init__.py  # Makes this directory a package\n",
    "│   ├── module1.py   # Core logic\n",
    "│   ├── module2.py   # Additional functionality\n",
    "├── tests/           # Test cases\n",
    "│   ├── test_module1.py\n",
    "│   ├── test_module2.py\n",
    "├── docs/            # Documentation\n",
    "│   ├── index.md\n",
    "│   ├── module1.md\n",
    "├── setup.py         # Package metadata and configuration\n",
    "├── requirements.txt # Dependencies\n",
    "├── README.md        # Overview of the package\n",
    "\n",
    "```\n"
   ]
  },
  {
   "cell_type": "markdown",
   "metadata": {},
   "source": [
    "## Creating a Python Package\n",
    "\n",
    "### Step 1: Setting up the directory\n",
    "\n",
    "1. Create a new directory for your package:\n",
    "    \n",
    "    ```bash\n",
    "    mkdir my_package\n",
    "    cd my_package\n",
    "    mkdir my_package tests docs\n",
    "    touch my_package/__init__.py\n",
    "    \n",
    "    ```"
   ]
  },
  {
   "cell_type": "markdown",
   "metadata": {},
   "source": [
    "2. Write your first module:\n",
    "\n",
    "```python\n",
    "# my_package/module1.py\n",
    "def add(a, b):\n",
    "    \"\"\"Add two numbers.\"\"\"\n",
    "    return a + b\n",
    "\n",
    "def subtract(a, b):\n",
    "    \"\"\"Subtract one number from another.\"\"\"\n",
    "    return a - b\n",
    "\n",
    "```"
   ]
  },
  {
   "cell_type": "markdown",
   "metadata": {},
   "source": [
    "### Step 2: Creating the `setup.py` file\n",
    "\n",
    "Define your package configuration:\n",
    "\n",
    "```python\n",
    "# setup.py\n",
    "from setuptools import setup, find_packages\n",
    "\n",
    "setup(\n",
    "    name='my_package',\n",
    "    version='0.1.0',\n",
    "    packages=find_packages(),\n",
    "    install_requires=[],  # Add dependencies here\n",
    "    description='A sample Python package',\n",
    "    author='Your Name',\n",
    "    author_email='your_email@example.com',\n",
    "    url='https://github.com/yourusername/my_package',\n",
    ")\n",
    "\n",
    "```"
   ]
  },
  {
   "cell_type": "markdown",
   "metadata": {},
   "source": [
    "### Step 3: Installing the package locally\n",
    "\n",
    "Install the package in development mode to allow testing and modifications:\n",
    "\n",
    "```bash\n",
    "pip install -e .\n",
    "```"
   ]
  },
  {
   "cell_type": "markdown",
   "metadata": {},
   "source": [
    "### Step 4: Import and use the functions\n",
    "\n",
    "Try loading the package in a Python shell:\n",
    "\n",
    "```python\n",
    "from my_package.module1 import add, subtract\n",
    "\n",
    "print(add(5, 3))        # Output: 8\n",
    "print(subtract(10, 4))  # Output: 6\n",
    "```"
   ]
  },
  {
   "cell_type": "markdown",
   "metadata": {},
   "source": [
    "## Adding Comprehensive Tests\n",
    "\n",
    "### Step 1: Introduction to Testing\n",
    "\n",
    "**Why test?**\n",
    "\n",
    "- Ensures code reliability and correctness.\n",
    "- Facilitates catching bugs early.\n",
    "- Aids in code refactoring.\n",
    "\n",
    "**Tools for Testing**: Use `pytest` for writing and running tests.\n",
    "\n",
    "### Step 2: Installing `pytest`\n",
    "\n",
    "Install `pytest`:\n",
    "\n",
    "```bash\n",
    "pip install pytest\n",
    "```"
   ]
  },
  {
   "cell_type": "markdown",
   "metadata": {},
   "source": [
    "## Step 3: Writing Basic Tests\n",
    "\n",
    "Create test files for your package. Each test file should start with `test_` and be placed in the `tests/` directory.\n",
    "\n",
    "Example test for `module1.py`:\n",
    "\n",
    "```python\n",
    "# tests/test_module1.py\n",
    "import pytest\n",
    "from my_package.module1 import add, subtract\n",
    "\n",
    "def test_add():\n",
    "    assert add(2, 3) == 5\n",
    "    assert add(-1, 1) == 0\n",
    "    assert add(0, 0) == 0\n",
    "\n",
    "def test_subtract():\n",
    "    assert subtract(5, 3) == 2\n",
    "    assert subtract(3, 5) == -2\n",
    "    assert subtract(0, 0) == 0\n",
    "\n",
    "```"
   ]
  },
  {
   "cell_type": "markdown",
   "metadata": {},
   "source": [
    "Run the tests:\n",
    "\n",
    "```bash\n",
    "pytest\n",
    "```"
   ]
  },
  {
   "cell_type": "markdown",
   "metadata": {},
   "source": [
    "### Step 4: Testing Edge Cases and Errors\n",
    "\n",
    "Expand tests to cover more scenarios:\n",
    "\n",
    "\n",
    "```python\n",
    "# tests/test_module1.py\n",
    "import pytest\n",
    "from my_package.module1 import add, subtract\n",
    "\n",
    "def test_add_with_large_numbers():\n",
    "    assert add(1e10, 1e10) == 2e10\n",
    "\n",
    "def test_subtract_negative_results():\n",
    "    assert subtract(3, 7) == -4\n",
    "\n",
    "def test_add_with_invalid_inputs():\n",
    "    with pytest.raises(TypeError):\n",
    "        add(\"a\", 1)\n",
    "```"
   ]
  },
  {
   "cell_type": "markdown",
   "metadata": {},
   "source": [
    "### Step 5: Parameterized Testing\n",
    "\n",
    "Use `pytest.mark.parametrize` to reduce repetitive code:\n",
    "\n",
    "```python\n",
    "@pytest.mark.parametrize(\"a, b, expected\", [\n",
    "    (2, 3, 5),\n",
    "    (-1, 1, 0),\n",
    "    (0, 0, 0)\n",
    "])\n",
    "def test_add(a, b, expected):\n",
    "    assert add(a, b) == expected\n",
    "\n",
    "```"
   ]
  },
  {
   "cell_type": "markdown",
   "metadata": {},
   "source": [
    "## Loading and Testing the Package in Different Environments\n",
    "\n",
    "### **Using a Virtual Environment**\n",
    "\n",
    "1. Create a virtual environment:\n",
    "\n",
    "```bash\n",
    "python -m venv venv\n",
    "source venv/bin/activate  # On Windows: venv\\Scripts\\activate\n",
    "```\n",
    "\n",
    "2. Install the package:\n",
    "\n",
    "```bash\n",
    "pip install -e .\n",
    "```\n",
    "\n",
    "3. Test loading the package in Python:\n",
    "\n",
    "```python\n",
    "from my_package.module1 import add\n",
    "print(add(10, 5))  # Output: 15\n",
    "```\n",
    "\n",
    "\n",
    "4. After the job is done:\n",
    "   \n",
    "Deactivate the environment.\n",
    "```bash\n",
    "deactivate\n",
    "```"
   ]
  },
  {
   "cell_type": "markdown",
   "metadata": {},
   "source": [
    "## Adding MkDocs for Documentation\n",
    "\n",
    "### Step 1: Installing MkDocs\n",
    "\n",
    "```bash\n",
    "pip install mkdocs\n",
    "```\n",
    "\n",
    "### Step 2: Initializing Documentation\n",
    "\n",
    "```bash\n",
    "mkdocs new docs\n",
    "```\n",
    "\n",
    "### Step 3: Configuring `mkdocs.yml`\n",
    "\n",
    "Update `mkdocs.yml`:\n",
    "\n",
    "```yaml\n",
    "site_name: My Package Documentation\n",
    "nav:\n",
    "  - Home: index.md\n",
    "  - Module 1: module1.md\n",
    "theme:\n",
    "  name: material\n",
    "\n",
    "```"
   ]
  },
  {
   "cell_type": "markdown",
   "metadata": {},
   "source": [
    "### Step 4: Writing Module-Specific Documentation\n",
    "\n",
    "Create `docs/module1.md`:\n",
    "\n",
    "```markdown\n",
    "# Module 1\n",
    "\n",
    "## Functions\n",
    "\n",
    "### add(a, b)\n",
    "Adds two numbers.\n",
    "- **a**: First number\n",
    "- **b**: Second number\n",
    "\n",
    "### subtract(a, b)\n",
    "Subtracts the second number from the first.\n",
    "- **a**: First number\n",
    "- **b**: Second number\n",
    "```"
   ]
  },
  {
   "cell_type": "markdown",
   "metadata": {},
   "source": [
    "### Step 5: Serving Documentation\n",
    "\n",
    "Serve the documentation locally:\n",
    "\n",
    "```bash\n",
    "mkdocs serve\n",
    "```"
   ]
  },
  {
   "cell_type": "markdown",
   "metadata": {},
   "source": []
  },
  {
   "cell_type": "markdown",
   "metadata": {},
   "source": [
    "## Enhancing Testing with Coverage Reports\n",
    "\n",
    "### **Step 1: Installing `pytest-cov`**\n",
    "\n",
    "```bash\n",
    "pip install pytest-cov\n",
    "\n",
    "```\n",
    "\n",
    "### **Step 2: Generating a Coverage Report**\n",
    "\n",
    "Run tests with coverage:\n",
    "\n",
    "```bash\n",
    "pytest --cov=my_package\n",
    "\n",
    "```\n",
    "\n",
    "### **Step 3: Visualizing Coverage**\n",
    "\n",
    "For detailed HTML reports:\n",
    "\n",
    "```bash\n",
    "pytest --cov=my_package --cov-report=html\n",
    "\n",
    "```\n",
    "\n",
    "Open the `htmlcov/index.html` file in a browser to explore the coverage details."
   ]
  },
  {
   "cell_type": "markdown",
   "metadata": {},
   "source": [
    "## Installing the Package from GitHub\n",
    "\n",
    "1. Push the code to GitHub.\n",
    "2. Install directly from the repository:\n",
    "    \n",
    "```bash\n",
    "pip install git+https://github.com/yourusername/my_package.git\n",
    "\n",
    "```"
   ]
  },
  {
   "cell_type": "markdown",
   "metadata": {},
   "source": [
    "## Enhancing with Continuous Integration and GitHub Actions\n",
    "\n",
    "**Step 1**: Create a GitHub repository and push your code.\n",
    "\n",
    "```bash\n",
    "git init\n",
    "git add .\n",
    "git commit -m \"Initial commit\"\n",
    "git branch -M main\n",
    "git remote add origin https://github.com/yourusername/my_package.git\n",
    "git push -u origin main\n",
    "```"
   ]
  },
  {
   "cell_type": "markdown",
   "metadata": {},
   "source": [
    "**Step 2**: Add a GitHub Actions workflow for CI.\n",
    "\n",
    "Create `.github/workflows/python-package.yml`:\n",
    "\n",
    "```yaml\n",
    "yaml\n",
    "Copy code\n",
    "name: Python package\n",
    "\n",
    "on:\n",
    "  push:\n",
    "    branches:\n",
    "      - main\n",
    "\n",
    "jobs:\n",
    "  test:\n",
    "    runs-on: ubuntu-latest\n",
    "\n",
    "    steps:\n",
    "    - uses: actions/checkout@v3\n",
    "    - name: Set up Python\n",
    "      uses: actions/setup-python@v4\n",
    "      with:\n",
    "        python-version: '3.9'\n",
    "    - name: Install dependencies\n",
    "      run: |\n",
    "        python -m pip install --upgrade pip\n",
    "        pip install pytest\n",
    "    - name: Run tests\n",
    "      run: pytest\n",
    "\n",
    "```"
   ]
  },
  {
   "cell_type": "markdown",
   "metadata": {},
   "source": [
    "## Q&A and Summary\n",
    "\n",
    "**Recap**:\n",
    "\n",
    "1. Create a Python package and structure it correctly.\n",
    "2. Write and load modular functions.\n",
    "3. Add comprehensive tests using `pytest` and coverage analysis.\n",
    "4. Integrate MkDocs for project documentation."
   ]
  },
  {
   "cell_type": "markdown",
   "metadata": {},
   "source": []
  },
  {
   "cell_type": "markdown",
   "metadata": {},
   "source": []
  }
 ],
 "metadata": {
  "language_info": {
   "name": "python"
  }
 },
 "nbformat": 4,
 "nbformat_minor": 2
}
