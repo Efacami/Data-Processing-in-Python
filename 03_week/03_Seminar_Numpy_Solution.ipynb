{
 "cells": [
  {
   "cell_type": "markdown",
   "id": "bcf3c7dc",
   "metadata": {},
   "source": [
    "## Seminar II: Numpy\n",
    "October 14, 2025\n",
    "_______________________"
   ]
  },
  {
   "cell_type": "code",
   "execution_count": null,
   "id": "dfdc85e0",
   "metadata": {},
   "outputs": [],
   "source": [
    "# install requirements if needed\n",
    "\n",
    "# !pip install numpy matplotlib pandas kaggle"
   ]
  },
  {
   "cell_type": "code",
   "execution_count": 2,
   "id": "d093a700",
   "metadata": {},
   "outputs": [],
   "source": [
    "import numpy as np\n",
    "import matplotlib.pyplot as plt"
   ]
  },
  {
   "cell_type": "markdown",
   "id": "8000ae8d",
   "metadata": {},
   "source": [
    "### Exercise 1 — Simulate a 1D array of simulated daily temperatures\n",
    "* Use normal distribution with `mean = 15` and `sd = 25`\n",
    "* Simulate 28 days of daily temperatures\n",
    "* Save as temps object\n",
    "* Convert the from Celsius to Fahrenheit and save as temps_fahrenheit\n",
    "$$fahrenheit = 1.8 * celsius + 32$$"
   ]
  },
  {
   "cell_type": "code",
   "execution_count": 2,
   "id": "b34f2fa3",
   "metadata": {},
   "outputs": [],
   "source": [
    "import numpy as np\n",
    "import matplotlib.pyplot as plt"
   ]
  },
  {
   "cell_type": "code",
   "execution_count": null,
   "id": "30a53d74",
   "metadata": {},
   "outputs": [],
   "source": [
    "np.random.seed(523)\n",
    "temps = np.random.normal(15, 5, 28)\n",
    "print(temps)"
   ]
  },
  {
   "cell_type": "code",
   "execution_count": null,
   "id": "5678c596",
   "metadata": {},
   "outputs": [],
   "source": [
    "temps_fahrenheit = 9 * temps / 5 + 32\n",
    "print(temps_fahrenheit)"
   ]
  },
  {
   "cell_type": "markdown",
   "id": "aafcd23f",
   "metadata": {},
   "source": [
    "#### Print shape and dtype of temps"
   ]
  },
  {
   "cell_type": "code",
   "execution_count": null,
   "id": "97f89b17",
   "metadata": {},
   "outputs": [],
   "source": [
    "print(temps.shape, temps.dtype)"
   ]
  },
  {
   "cell_type": "markdown",
   "id": "9044c25a",
   "metadata": {},
   "source": [
    "#### Reshape temps so that it consists of 4 rows (weeks) and 7 columns (days of week)"
   ]
  },
  {
   "cell_type": "code",
   "execution_count": null,
   "id": "d1361e35",
   "metadata": {},
   "outputs": [],
   "source": [
    "temps = temps.reshape((4, 7))\n",
    "print(temps)"
   ]
  },
  {
   "cell_type": "markdown",
   "id": "1bbfb3cd",
   "metadata": {},
   "source": [
    "####  Use slicing to display\n",
    "* all Wednesday values (assume week starting on Monday) \n",
    "* Week #2\n",
    "* 1st and 3rd week\n",
    "\n",
    "* verify that all temperatures are higher than 5 degrees Celsius\n",
    "* verify that all temperatures are lower than 30 degrees Celsius"
   ]
  },
  {
   "cell_type": "code",
   "execution_count": null,
   "id": "132e6c24",
   "metadata": {},
   "outputs": [],
   "source": [
    "temps[:, 2]\n",
    "temps[0]\n",
    "temps[::2]"
   ]
  },
  {
   "cell_type": "code",
   "execution_count": null,
   "id": "bd3c3b5e",
   "metadata": {},
   "outputs": [],
   "source": [
    "(temps < 30).all()\n",
    "(temps > 5).all()"
   ]
  },
  {
   "cell_type": "markdown",
   "id": "345fe815",
   "metadata": {},
   "source": [
    "#### Print mean temperatures \n",
    "* Overall in Celsius and Fahrenheit\n",
    "* For each day in Celsius\n",
    "* For each week in Celsius"
   ]
  },
  {
   "cell_type": "code",
   "execution_count": null,
   "id": "22138685",
   "metadata": {},
   "outputs": [],
   "source": [
    "print(temps.mean(), temps_fahrenheit.mean())"
   ]
  },
  {
   "cell_type": "code",
   "execution_count": null,
   "id": "21aed94b",
   "metadata": {},
   "outputs": [],
   "source": [
    "weekdays = ['Monday', 'Tuesday', 'Wednesday', 'Thursday', 'Friday', 'Saturday', 'Sunday']\n",
    "for i in range(7):\n",
    "    print(f'Mean temperature for {weekdays[i]}s is {temps.mean(axis = 0)[i]: .2f} degrees Celsius')"
   ]
  },
  {
   "cell_type": "code",
   "execution_count": null,
   "id": "d878dd9b",
   "metadata": {},
   "outputs": [],
   "source": [
    "for i in range(4):\n",
    "    print(f'Mean temperature for week {i+1} is {temps.mean(axis = 1)[i]: .2f} degrees Celsius')"
   ]
  },
  {
   "cell_type": "markdown",
   "id": "4cf8201e",
   "metadata": {},
   "source": [
    "#### Plot both temperature series into 1 plot"
   ]
  },
  {
   "cell_type": "code",
   "execution_count": null,
   "id": "cf11486f",
   "metadata": {},
   "outputs": [],
   "source": [
    "plt.plot(temps.flatten(), label=\"Celsius\")\n",
    "plt.plot(temps_fahrenheit, label=\"Fahrenheit\")\n",
    "plt.title(\"Temperature comparison\")\n",
    "plt.xlabel(\"Measurement index\")\n",
    "plt.ylabel(\"Temperature\")\n",
    "plt.legend()\n",
    "plt.show()"
   ]
  },
  {
   "cell_type": "markdown",
   "id": "8559bc57",
   "metadata": {},
   "source": [
    "### Exercise 2 - Simulate 2D array of artificial stock returns\n",
    "* Simulate 1 year of data (252 observations) and 5 stocks\n",
    "* Simulate from normal distribution with the defined means and standard deviations\n",
    "* Compute sample mean and standard deviation for each of the assets"
   ]
  },
  {
   "cell_type": "code",
   "execution_count": 179,
   "id": "4d49ea2c",
   "metadata": {},
   "outputs": [],
   "source": [
    "np.random.seed(523)\n",
    "means = np.array([0, -0.01, 0, 0.005, .012])\n",
    "sds   = np.array([0.01, 0.01, 0.01, 0.01, 0.01])\n",
    "\n",
    "returns = np.random.normal(0, sds, size=(252,5))"
   ]
  },
  {
   "cell_type": "code",
   "execution_count": null,
   "id": "474bac2b",
   "metadata": {},
   "outputs": [],
   "source": [
    "for i in range(returns.shape[1]):\n",
    "    print(f'Stock {i+1} has a mean of {returns.mean(axis = 0)[i]: .5f}.')"
   ]
  },
  {
   "cell_type": "code",
   "execution_count": null,
   "id": "8bf0ce97",
   "metadata": {},
   "outputs": [],
   "source": [
    "for i in range(returns.shape[1]):\n",
    "    print(f'Stock {i+1} has a standard deviation {returns.std(axis = 0)[i]: .2f}.')"
   ]
  },
  {
   "cell_type": "markdown",
   "id": "f0e61f5a",
   "metadata": {},
   "source": [
    "#### Compute the correlation for each of the asset pairs"
   ]
  },
  {
   "cell_type": "code",
   "execution_count": null,
   "id": "42dfdbef",
   "metadata": {},
   "outputs": [],
   "source": [
    "corr = np.corrcoef(returns.T)\n",
    "print(corr)"
   ]
  },
  {
   "cell_type": "markdown",
   "id": "aae0f50e",
   "metadata": {},
   "source": [
    "#### Extract\n",
    "* returns of the 2nd asset for Wednesdays (assume each week has 5 days and the sample starts Monday)\n",
    "* all returns of stocks 1 and 4"
   ]
  },
  {
   "cell_type": "code",
   "execution_count": null,
   "id": "4d92b239",
   "metadata": {},
   "outputs": [],
   "source": [
    "returns[2::5][:,1]"
   ]
  },
  {
   "cell_type": "code",
   "execution_count": null,
   "id": "fe27c6f7",
   "metadata": {},
   "outputs": [],
   "source": [
    "returns[:, [0, 3]]"
   ]
  },
  {
   "cell_type": "markdown",
   "id": "be5104f0",
   "metadata": {},
   "source": [
    "#### Identify days where average return across assets is greater than 0"
   ]
  },
  {
   "cell_type": "code",
   "execution_count": null,
   "id": "054f7b0f",
   "metadata": {},
   "outputs": [],
   "source": [
    "positive_avg_days = returns.mean(axis=1) > 0\n",
    "print(f'There are {positive_avg_days.sum()} days with positive average returns.')"
   ]
  },
  {
   "cell_type": "markdown",
   "id": "253d2a58",
   "metadata": {},
   "source": [
    "#### Plot the returns\n",
    "* Compute cumulative returns for each of the assets\n",
    "* Plot the time series of returns into 1 plot"
   ]
  },
  {
   "cell_type": "code",
   "execution_count": null,
   "id": "e9c0eaba",
   "metadata": {},
   "outputs": [],
   "source": [
    "# Plot returns\n",
    "plt.figure(figsize=(10,6))\n",
    "plt.plot(rets)\n",
    "plt.title(\"Daily returns\")\n",
    "plt.xlabel(\"Days\")\n",
    "plt.ylabel(\"Return\")\n",
    "plt.legend([f\"Asset {i+1}\" for i in range(rets.shape[1])])\n",
    "plt.grid(True)\n",
    "plt.show()"
   ]
  },
  {
   "cell_type": "code",
   "execution_count": 180,
   "id": "2bcf1be1",
   "metadata": {},
   "outputs": [],
   "source": [
    "cum_returns = np.cumprod(1 + returns, axis=0)"
   ]
  },
  {
   "cell_type": "code",
   "execution_count": null,
   "id": "cc43ac28",
   "metadata": {},
   "outputs": [],
   "source": [
    "# Plot as time series\n",
    "plt.figure(figsize=(10,6))\n",
    "plt.plot(cum_returns)\n",
    "plt.title(\"Simulated Cumulative Returns\")\n",
    "plt.xlabel(\"Days\")\n",
    "plt.ylabel(\"Cumulative Return (Growth of $1)\")\n",
    "plt.legend([f\"Asset {i+1}\" for i in range(returns.shape[1])])\n",
    "plt.grid(True)\n",
    "plt.show()"
   ]
  },
  {
   "cell_type": "markdown",
   "id": "e118859e",
   "metadata": {},
   "source": [
    "#### Plot histogram of returns for asset 2"
   ]
  },
  {
   "cell_type": "code",
   "execution_count": null,
   "id": "7c0138c3",
   "metadata": {},
   "outputs": [],
   "source": [
    "plt.figure(figsize=(6,6))\n",
    "plt.hist(returns[:,1])\n",
    "plt.title(\"Histogram of asset 2 returns\")"
   ]
  },
  {
   "cell_type": "code",
   "execution_count": null,
   "id": "1a958912",
   "metadata": {},
   "outputs": [],
   "source": [
    "import seaborn as sns\n",
    "\n",
    "sns.histplot(returns[:,1], kde=True)"
   ]
  },
  {
   "cell_type": "markdown",
   "id": "a99d4357",
   "metadata": {},
   "source": [
    "---\n",
    "### Exercise 3 — 3D array (image)\n",
    "\n",
    "First we will load the image into a 3D array"
   ]
  },
  {
   "cell_type": "code",
   "execution_count": 4,
   "id": "9f95cab9",
   "metadata": {},
   "outputs": [],
   "source": [
    "img = plt.imread(\"03_pics/mc_escher_print gallery.png\")\n",
    "plt.imshow(img, interpolation=\"nearest\", aspect=\"auto\")\n",
    "plt.axis('off')"
   ]
  },
  {
   "cell_type": "markdown",
   "id": "5d37bcc2",
   "metadata": {},
   "source": [
    "* Verify that all values are lower or equal than 1\n",
    "* Find the range of realized values"
   ]
  },
  {
   "cell_type": "code",
   "execution_count": null,
   "id": "81dbaf64",
   "metadata": {},
   "outputs": [],
   "source": [
    "(img<=1).all()"
   ]
  },
  {
   "cell_type": "code",
   "execution_count": null,
   "id": "487b67c0",
   "metadata": {},
   "outputs": [],
   "source": [
    "print(f'The values range from {img.min()} to {img.max()}')"
   ]
  },
  {
   "cell_type": "markdown",
   "id": "5ba42324",
   "metadata": {},
   "source": [
    "#### Remove each of the primary colors\n",
    "* Create a copy of img and save it as img2\n",
    "* Set all the values for `Red` to 0 and display the image\n",
    "* Set all the values for `Green` to 0 and display the image\n",
    "* Set all the values for `Blue` to 0 and display the image"
   ]
  },
  {
   "cell_type": "code",
   "execution_count": null,
   "id": "7e6e68a1",
   "metadata": {},
   "outputs": [],
   "source": [
    "# remove red\n",
    "img2 = img.copy()\n",
    "\n",
    "img2[:,:,0] = 0\n",
    "plt.imshow(img2, interpolation=\"nearest\", aspect=\"auto\")\n",
    "plt.axis('off')\n"
   ]
  },
  {
   "cell_type": "code",
   "execution_count": null,
   "id": "295a5a2d",
   "metadata": {},
   "outputs": [],
   "source": [
    "# remove green\n",
    "img2 = img.copy()\n",
    "\n",
    "img2[:,:,1] = 0\n",
    "plt.imshow(img2, interpolation=\"nearest\", aspect=\"auto\")\n",
    "plt.axis('off')"
   ]
  },
  {
   "cell_type": "code",
   "execution_count": null,
   "id": "035da8e5",
   "metadata": {},
   "outputs": [],
   "source": [
    "# remove blue\n",
    "img2 = img.copy()\n",
    "\n",
    "img2[:,:,2] = 0\n",
    "\n",
    "plt.imshow(img2, interpolation=\"nearest\", aspect=\"auto\")\n",
    "plt.axis('off')"
   ]
  },
  {
   "cell_type": "markdown",
   "id": "4031b1c9",
   "metadata": {},
   "source": [
    "#### Invert the grayscale of the image\n",
    "* What was white should be black, etc."
   ]
  },
  {
   "cell_type": "code",
   "execution_count": null,
   "id": "dc056832",
   "metadata": {},
   "outputs": [],
   "source": [
    "inverted_img = img.copy()\n",
    "\n",
    "inverted_img[:,:,0:3] = 1 - inverted_img[:,:,0:3]\n",
    "\n",
    "plt.imshow(inverted_img, interpolation=\"nearest\", aspect=\"auto\")\n",
    "plt.title('Inverted image')\n",
    "plt.axis('off')"
   ]
  },
  {
   "cell_type": "markdown",
   "id": "ca2f5947",
   "metadata": {},
   "source": [
    "#### Add Gaussian noise to the picture\n",
    "* Create an np.array from normal distribution with `mean = 0` and `sd = 0.1` of shape (1024, 1280, 3), and add it to the RGB colors\n",
    "* employ clipping of the values to the interval `[0, 1]`"
   ]
  },
  {
   "cell_type": "code",
   "execution_count": null,
   "id": "c8566ae8",
   "metadata": {},
   "outputs": [],
   "source": [
    "noisy = img.copy()\n",
    "\n",
    "noise = np.random.normal(0, 0.01, size=img[..., :3].shape)  # mean 0, std 0.05\n",
    "noisy[..., :3] = np.clip(noisy[..., :3] + noise, 0, 1)\n",
    "\n",
    "plt.imshow(noisy, interpolation=\"nearest\", aspect=\"auto\")\n",
    "plt.title('Added Gaussian noise')\n",
    "plt.axis('off')\n"
   ]
  },
  {
   "cell_type": "code",
   "execution_count": null,
   "id": "f8c0f9bb",
   "metadata": {},
   "outputs": [],
   "source": [
    "print(img[:,:,0].mean(), noisy[:,:,0].mean())"
   ]
  },
  {
   "cell_type": "markdown",
   "id": "1e6a2dcd",
   "metadata": {},
   "source": [
    "#### Flip the image horizontally\n",
    "\n",
    "* You can use np.flip()\n",
    "* Keep the `A` values"
   ]
  },
  {
   "cell_type": "code",
   "execution_count": null,
   "id": "85f2c622",
   "metadata": {},
   "outputs": [],
   "source": [
    "flipped_img = img.copy()\n",
    "flipped_img = np.flip(flipped_img[..., 0:3])\n",
    "\n",
    "plt.imshow(flipped_img, interpolation=\"nearest\", aspect=\"auto\")\n",
    "plt.title('Added Gaussian noise')\n",
    "plt.axis('off')"
   ]
  },
  {
   "cell_type": "code",
   "execution_count": null,
   "id": "de4e4329",
   "metadata": {},
   "outputs": [],
   "source": [
    "flipped_img = img.copy()\n",
    "flipped_img = np.flip(flipped_img[..., 0:3])\n",
    "\n",
    "alpha_channel = np.ones((*flipped_img.shape[:2], 1), dtype=flipped_img.dtype)\n",
    "flipped_rgba = np.concatenate((flipped_img, alpha_channel), axis=2)\n",
    "\n",
    "plt.imshow(flipped_rgba)\n",
    "plt.title(\"Flipped Image\")\n",
    "plt.axis(\"off\")\n",
    "plt.show()"
   ]
  },
  {
   "cell_type": "markdown",
   "id": "529d67d7",
   "metadata": {},
   "source": [
    "#### Flatten the image and then reconstruct it"
   ]
  },
  {
   "cell_type": "code",
   "execution_count": null,
   "id": "0385d926",
   "metadata": {},
   "outputs": [],
   "source": [
    "flattened_img = img.flatten()\n",
    "flattened_img.shape"
   ]
  },
  {
   "cell_type": "code",
   "execution_count": null,
   "id": "cc1c62e4",
   "metadata": {},
   "outputs": [],
   "source": [
    "reconstructed_img = flattened_img.reshape(img.shape)\n",
    "\n",
    "plt.imshow(reconstructed_img)\n",
    "plt.title(\"Reconstructed Image\")\n",
    "plt.axis(\"off\")\n",
    "plt.show()"
   ]
  },
  {
   "cell_type": "markdown",
   "id": "70b1cfaa",
   "metadata": {},
   "source": [
    "#### Bonus: create a checkerboard mask to selectively white every other 8×8 block."
   ]
  },
  {
   "cell_type": "code",
   "execution_count": null,
   "id": "e165baea",
   "metadata": {},
   "outputs": [],
   "source": [
    "h, w, _ = img.shape\n",
    "block = 8 \n",
    "\n",
    "# Compute how many 8×8 blocks fit in each dimension\n",
    "h_blocks = h // block\n",
    "w_blocks = w // block\n",
    "\n",
    "# Create a checkerboard pattern using addition mod 2\n",
    "checker = (np.add.outer(np.arange(h_blocks), np.arange(w_blocks)) % 2).astype(bool)\n",
    "mask = np.kron(checker, np.ones((block, block), dtype=bool))\n",
    "\n",
    "# Apply mask: zero every other block\n",
    "checker_img = img.copy()\n",
    "checker_img[~mask] = 1  # zero RGBA pixels in the masked-out blocks\n",
    "\n",
    "plt.imshow(checker_img)\n",
    "plt.title(\"Checkerboard Mask (8×8 Blocks)\")\n",
    "plt.axis(\"off\")\n",
    "plt.show()"
   ]
  }
 ],
 "metadata": {
  "kernelspec": {
   "display_name": "base",
   "language": "python",
   "name": "python3"
  },
  "language_info": {
   "codemirror_mode": {
    "name": "ipython",
    "version": 3
   },
   "file_extension": ".py",
   "mimetype": "text/x-python",
   "name": "python",
   "nbconvert_exporter": "python",
   "pygments_lexer": "ipython3",
   "version": "3.12.9"
  }
 },
 "nbformat": 4,
 "nbformat_minor": 5
}
