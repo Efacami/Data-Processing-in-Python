{
 "cells": [
  {
   "cell_type": "markdown",
   "id": "bcf3c7dc",
   "metadata": {},
   "source": [
    "## Seminar II: Numpy\n",
    "October 14, 2025\n",
    "_______________________"
   ]
  },
  {
   "cell_type": "code",
   "execution_count": null,
   "id": "dfdc85e0",
   "metadata": {},
   "outputs": [],
   "source": [
    "# install requirements if needed\n",
    "\n",
    "# !pip install numpy matplotlib pandas"
   ]
  },
  {
   "cell_type": "code",
   "execution_count": 50,
   "id": "d093a700",
   "metadata": {},
   "outputs": [],
   "source": [
    "import numpy as np\n",
    "import matplotlib.pyplot as plt"
   ]
  },
  {
   "cell_type": "markdown",
   "id": "8000ae8d",
   "metadata": {},
   "source": [
    "### Exercise 1 — Simulate a 1D array of simulated daily temperatures\n",
    "* Use normal distribution with `mean = 15` and `sd = 25`\n",
    "* Simulate 28 days of daily temperatures\n",
    "* Save as temps object\n",
    "* Convert the from Celsius to Fahrenheit and save as temps_fahrenheit\n",
    "$$fahrenheit = 1.8 * celsius + 32$$"
   ]
  },
  {
   "cell_type": "code",
   "execution_count": null,
   "id": "30a53d74",
   "metadata": {},
   "outputs": [],
   "source": []
  },
  {
   "cell_type": "code",
   "execution_count": null,
   "id": "5678c596",
   "metadata": {},
   "outputs": [],
   "source": []
  },
  {
   "cell_type": "markdown",
   "id": "aafcd23f",
   "metadata": {},
   "source": [
    "#### Print shape and dtype of temps"
   ]
  },
  {
   "cell_type": "code",
   "execution_count": null,
   "id": "97f89b17",
   "metadata": {},
   "outputs": [],
   "source": []
  },
  {
   "cell_type": "markdown",
   "id": "9044c25a",
   "metadata": {},
   "source": [
    "#### Reshape temps so that it consists of 4 rows (weeks) and 7 columns (days of week)"
   ]
  },
  {
   "cell_type": "code",
   "execution_count": null,
   "id": "d1361e35",
   "metadata": {},
   "outputs": [],
   "source": []
  },
  {
   "cell_type": "markdown",
   "id": "1bbfb3cd",
   "metadata": {},
   "source": [
    "####  Use slicing to display\n",
    "* all Wednesday values (assume week starting on Monday) \n",
    "* Week #2\n",
    "* 1st and 3rd week\n",
    "\n",
    "* verify that all temperatures are higher than 5 degrees Celsius\n",
    "* verify that all temperatures are lower than 30 degrees Celsius"
   ]
  },
  {
   "cell_type": "code",
   "execution_count": null,
   "id": "132e6c24",
   "metadata": {},
   "outputs": [],
   "source": []
  },
  {
   "cell_type": "code",
   "execution_count": null,
   "id": "bd3c3b5e",
   "metadata": {},
   "outputs": [],
   "source": []
  },
  {
   "cell_type": "markdown",
   "id": "345fe815",
   "metadata": {},
   "source": [
    "#### Print mean temperatures \n",
    "* Overall in Celsius and Fahrenheit\n",
    "* For each day in Celsius\n",
    "* For each week in Celsius"
   ]
  },
  {
   "cell_type": "code",
   "execution_count": null,
   "id": "22138685",
   "metadata": {},
   "outputs": [],
   "source": []
  },
  {
   "cell_type": "code",
   "execution_count": null,
   "id": "21aed94b",
   "metadata": {},
   "outputs": [],
   "source": []
  },
  {
   "cell_type": "code",
   "execution_count": null,
   "id": "d878dd9b",
   "metadata": {},
   "outputs": [],
   "source": []
  },
  {
   "cell_type": "markdown",
   "id": "4cf8201e",
   "metadata": {},
   "source": [
    "#### Plot both temperature series into 1 plot"
   ]
  },
  {
   "cell_type": "code",
   "execution_count": null,
   "id": "cf11486f",
   "metadata": {},
   "outputs": [],
   "source": []
  },
  {
   "cell_type": "markdown",
   "id": "8559bc57",
   "metadata": {},
   "source": [
    "### Exercise 2 - Simulate 2D array of artificial stock returns\n",
    "* Simulate 1 year of data (252 observations) and 5 stocks\n",
    "* Simulate from normal distribution with the defined means and standard deviations\n",
    "* Compute sample mean and standard deviation for each of the assets"
   ]
  },
  {
   "cell_type": "code",
   "execution_count": 185,
   "id": "4d49ea2c",
   "metadata": {},
   "outputs": [],
   "source": []
  },
  {
   "cell_type": "code",
   "execution_count": null,
   "id": "474bac2b",
   "metadata": {},
   "outputs": [],
   "source": []
  },
  {
   "cell_type": "code",
   "execution_count": null,
   "id": "8bf0ce97",
   "metadata": {},
   "outputs": [],
   "source": []
  },
  {
   "cell_type": "markdown",
   "id": "f0e61f5a",
   "metadata": {},
   "source": [
    "#### Compute the correlation for each of the asset pairs"
   ]
  },
  {
   "cell_type": "code",
   "execution_count": null,
   "id": "42dfdbef",
   "metadata": {},
   "outputs": [],
   "source": []
  },
  {
   "cell_type": "markdown",
   "id": "aae0f50e",
   "metadata": {},
   "source": [
    "#### Extract\n",
    "* returns of the 2nd asset for Wednesdays (assume each week has 5 days and the sample starts Monday)\n",
    "* all returns of stocks 1 and 4"
   ]
  },
  {
   "cell_type": "code",
   "execution_count": null,
   "id": "4d92b239",
   "metadata": {},
   "outputs": [],
   "source": []
  },
  {
   "cell_type": "code",
   "execution_count": null,
   "id": "fe27c6f7",
   "metadata": {},
   "outputs": [],
   "source": []
  },
  {
   "cell_type": "markdown",
   "id": "be5104f0",
   "metadata": {},
   "source": [
    "#### Identify days where average return across assets is greater than 0"
   ]
  },
  {
   "cell_type": "code",
   "execution_count": null,
   "id": "054f7b0f",
   "metadata": {},
   "outputs": [],
   "source": []
  },
  {
   "cell_type": "markdown",
   "id": "253d2a58",
   "metadata": {},
   "source": [
    "#### Plot the returns\n",
    "* Plot the time series of raw returns\n",
    "* Assume that you make an initial investment of 1 USD. Compute and plot the evolution of such investment for each asset."
   ]
  },
  {
   "cell_type": "code",
   "execution_count": null,
   "id": "f6981749",
   "metadata": {},
   "outputs": [],
   "source": [
    "\n"
   ]
  },
  {
   "cell_type": "code",
   "execution_count": 180,
   "id": "2bcf1be1",
   "metadata": {},
   "outputs": [],
   "source": []
  },
  {
   "cell_type": "code",
   "execution_count": null,
   "id": "cc43ac28",
   "metadata": {},
   "outputs": [],
   "source": []
  },
  {
   "cell_type": "markdown",
   "id": "7f920b26",
   "metadata": {},
   "source": [
    "#### Plot histogram of returns for asset 2"
   ]
  },
  {
   "cell_type": "code",
   "execution_count": null,
   "id": "0d05eb4b",
   "metadata": {},
   "outputs": [],
   "source": []
  },
  {
   "cell_type": "code",
   "execution_count": null,
   "id": "4772912c",
   "metadata": {},
   "outputs": [],
   "source": []
  },
  {
   "cell_type": "markdown",
   "id": "a99d4357",
   "metadata": {},
   "source": [
    "---\n",
    "### Exercise 3 — 3D array (image)\n",
    "\n",
    "First we will load the image into a 3D array"
   ]
  },
  {
   "cell_type": "code",
   "execution_count": null,
   "id": "9f95cab9",
   "metadata": {},
   "outputs": [],
   "source": [
    "\n"
   ]
  },
  {
   "cell_type": "code",
   "execution_count": null,
   "id": "e1fddab0",
   "metadata": {},
   "outputs": [],
   "source": []
  },
  {
   "cell_type": "markdown",
   "id": "59588212",
   "metadata": {},
   "source": [
    "* Verify that all values are lower or equal than 1\n",
    "* Find the range of realized values"
   ]
  },
  {
   "cell_type": "code",
   "execution_count": null,
   "id": "46134b1e",
   "metadata": {},
   "outputs": [],
   "source": [
    "# Verify that all the values are lower than 1\n"
   ]
  },
  {
   "cell_type": "code",
   "execution_count": null,
   "id": "21ac1b06",
   "metadata": {},
   "outputs": [],
   "source": []
  },
  {
   "cell_type": "markdown",
   "id": "9ed11d22",
   "metadata": {},
   "source": [
    "#### Remove each of the primary colors\n",
    "* Create a copy of img and save it as img2\n",
    "* Set all the values for `Red` to 0 and display the image\n",
    "* Set all the values for `Green` to 0 and display the image\n",
    "* Set all the values for `Blue` to 0 and display the image"
   ]
  },
  {
   "cell_type": "code",
   "execution_count": null,
   "id": "9699650b",
   "metadata": {},
   "outputs": [],
   "source": [
    "# remove red\n"
   ]
  },
  {
   "cell_type": "code",
   "execution_count": null,
   "id": "ecdf00b4",
   "metadata": {},
   "outputs": [],
   "source": [
    "# remove green\n"
   ]
  },
  {
   "cell_type": "code",
   "execution_count": null,
   "id": "f512adb7",
   "metadata": {},
   "outputs": [],
   "source": [
    "# remove blue\n"
   ]
  },
  {
   "cell_type": "markdown",
   "id": "014e7780",
   "metadata": {},
   "source": [
    "#### Invert the grayscale of the image\n",
    "* What was white should be black, etc."
   ]
  },
  {
   "cell_type": "code",
   "execution_count": null,
   "id": "04379327",
   "metadata": {},
   "outputs": [],
   "source": [
    "inverted = img.copy()\n"
   ]
  },
  {
   "cell_type": "markdown",
   "id": "21feffcc",
   "metadata": {},
   "source": [
    "#### Add Gaussian noise to the picture\n",
    "* Create an np.array from normal distribution with `mean = 0` and `sd = 0.1` of shape (1024, 1280, 3), and add it to the RGB colors\n",
    "* employ clipping of the values to the interval `[0, 1]`"
   ]
  },
  {
   "cell_type": "code",
   "execution_count": null,
   "id": "de834955",
   "metadata": {},
   "outputs": [],
   "source": [
    "noisy = img.copy()\n"
   ]
  },
  {
   "cell_type": "markdown",
   "id": "3fef279e",
   "metadata": {},
   "source": [
    "#### Flip the image horizontally\n",
    "\n",
    "* You can use np.flip()\n",
    "* Keep the `A` values"
   ]
  },
  {
   "cell_type": "code",
   "execution_count": null,
   "id": "3f11e494",
   "metadata": {},
   "outputs": [],
   "source": []
  },
  {
   "cell_type": "code",
   "execution_count": null,
   "id": "af09448d",
   "metadata": {},
   "outputs": [],
   "source": []
  },
  {
   "cell_type": "markdown",
   "id": "5adfef9f",
   "metadata": {},
   "source": [
    "#### Flatten the image and then reconstruct it"
   ]
  },
  {
   "cell_type": "code",
   "execution_count": null,
   "id": "55b01351",
   "metadata": {},
   "outputs": [],
   "source": [
    "\n"
   ]
  },
  {
   "cell_type": "code",
   "execution_count": null,
   "id": "d96b625c",
   "metadata": {},
   "outputs": [],
   "source": []
  },
  {
   "cell_type": "markdown",
   "id": "767dacb3",
   "metadata": {},
   "source": [
    "#### Bonus: create a checkerboard mask to selectively white every other 8×8 block."
   ]
  },
  {
   "cell_type": "code",
   "execution_count": null,
   "id": "f642a9ad",
   "metadata": {},
   "outputs": [],
   "source": [
    "h, w, _ = img.shape\n",
    "block = 8 \n",
    "\n",
    "# Compute how many 8×8 blocks fit in each dimension\n",
    "h_blocks = h // block\n",
    "w_blocks = w // block\n",
    "\n",
    "# Create a checkerboard pattern using addition mod 2\n",
    "checker = (np.add.outer(np.arange(h_blocks), np.arange(w_blocks)) % 2).astype(bool)\n",
    "mask = np.kron(checker, np.ones((block, block), dtype=bool))\n",
    "\n",
    "# Apply mask: zero every other block\n",
    "checker_img = img.copy()\n",
    "checker_img[~mask] = 1  # zero RGBA pixels in the masked-out blocks\n",
    "\n",
    "plt.imshow(checker_img)\n",
    "plt.title(\"Checkerboard Mask (8×8 Blocks)\")\n",
    "plt.axis(\"off\")\n",
    "plt.show()"
   ]
  },
  {
   "cell_type": "code",
   "execution_count": null,
   "id": "9bcd1351",
   "metadata": {},
   "outputs": [],
   "source": []
  }
 ],
 "metadata": {
  "kernelspec": {
   "display_name": "base",
   "language": "python",
   "name": "python3"
  },
  "language_info": {
   "codemirror_mode": {
    "name": "ipython",
    "version": 3
   },
   "file_extension": ".py",
   "mimetype": "text/x-python",
   "name": "python",
   "nbconvert_exporter": "python",
   "pygments_lexer": "ipython3",
   "version": "3.12.9"
  }
 },
 "nbformat": 4,
 "nbformat_minor": 5
}
