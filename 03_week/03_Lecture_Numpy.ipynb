{
 "cells": [
  {
   "cell_type": "markdown",
   "metadata": {},
   "source": [
    "## Lecture III: NumPy\n",
    "\n",
    "October 13, 2025"
   ]
  },
  {
   "cell_type": "markdown",
   "metadata": {},
   "source": [
    "https://numpy.org/doc/stable/user/index.html"
   ]
  },
  {
   "cell_type": "markdown",
   "metadata": {},
   "source": [
    "# 5 min warmup"
   ]
  },
  {
   "cell_type": "markdown",
   "metadata": {},
   "source": []
  },
  {
   "cell_type": "code",
   "execution_count": null,
   "metadata": {},
   "outputs": [],
   "source": [
    "# will be useful today\n",
    "# display the list of object attributes\n",
    "# helping - similar to R \"str\"\n",
    "print(list('abcd'))"
   ]
  },
  {
   "cell_type": "code",
   "execution_count": null,
   "metadata": {
    "ExecuteTime": {
     "end_time": "2023-10-17T15:45:19.895067Z",
     "start_time": "2023-10-17T15:45:19.882181Z"
    }
   },
   "outputs": [],
   "source": []
  },
  {
   "cell_type": "markdown",
   "metadata": {},
   "source": [
    "### Warm up 2nd round:"
   ]
  },
  {
   "cell_type": "code",
   "execution_count": 3,
   "metadata": {},
   "outputs": [],
   "source": [
    "# lambda function"
   ]
  },
  {
   "cell_type": "code",
   "execution_count": null,
   "metadata": {},
   "outputs": [],
   "source": [
    "x = [1, 2, 3, 4, 5]\n",
    "doubled = list(map(lambda x: x * 2, x)) # map applies the function to each element of the list\n",
    "print(doubled)"
   ]
  },
  {
   "cell_type": "code",
   "execution_count": null,
   "metadata": {},
   "outputs": [],
   "source": [
    "x = [1, 2, 3, 4, 5, 6, 7, 8]\n",
    "even_numbers = list(filter(lambda x: x % 2 == 0, x)) # \n",
    "print(even_numbers)"
   ]
  },
  {
   "cell_type": "code",
   "execution_count": null,
   "metadata": {},
   "outputs": [],
   "source": [
    "pairs = [(1, 3, 2), (2, 2, 1), (3, 1, 2)]\n",
    "sorted_pairs = sorted(pairs, key=lambda x: x[1]) # sort by the second element of the tuple\n",
    "print(sorted_pairs) "
   ]
  },
  {
   "cell_type": "markdown",
   "metadata": {},
   "source": [
    "#### Obtain the setup of our environment"
   ]
  },
  {
   "cell_type": "code",
   "execution_count": null,
   "metadata": {},
   "outputs": [],
   "source": [
    "!pip freeze"
   ]
  },
  {
   "cell_type": "code",
   "execution_count": null,
   "metadata": {},
   "outputs": [],
   "source": [
    "# it is not natively in the python distribution, do you have it installed?\n",
    "\n",
    "!pip freeze | grep numpy # bit of bash magic"
   ]
  },
  {
   "cell_type": "code",
   "execution_count": null,
   "metadata": {},
   "outputs": [],
   "source": [
    "!pip freeze > requirements.txt"
   ]
  },
  {
   "cell_type": "code",
   "execution_count": null,
   "metadata": {},
   "outputs": [],
   "source": [
    "# executing shell comands from the jupyter notebook\n",
    "# !ls -lha\n",
    "# !pip install numpy"
   ]
  },
  {
   "cell_type": "markdown",
   "metadata": {},
   "source": [
    "# Moving forward from Python's primitive data types"
   ]
  },
  {
   "cell_type": "code",
   "execution_count": 7,
   "metadata": {
    "ExecuteTime": {
     "end_time": "2023-10-17T15:45:20.675268Z",
     "start_time": "2023-10-17T15:45:20.669501Z"
    }
   },
   "outputs": [],
   "source": [
    "# Integers\n",
    "# Float\n",
    "# Strings\n",
    "# Boolean"
   ]
  },
  {
   "cell_type": "code",
   "execution_count": null,
   "metadata": {},
   "outputs": [],
   "source": [
    "[1, 'a', 3.14, True]"
   ]
  },
  {
   "cell_type": "markdown",
   "metadata": {},
   "source": [
    "# Numpy <a name=\"numpy\"></a>"
   ]
  },
  {
   "cell_type": "markdown",
   "metadata": {},
   "source": [
    "* Num(erical) Py(thon)\n",
    "* NumPy is at the base of Python's scientific stack of tools \n",
    "* Python already has *high-level number objects* (integers, floating point) and *containers*  (lists, dictionaries ) \n",
    "* np arrays contain *only one type* - unlike general lists\n",
    "* **Memory-efficient container that provides fast numerical operations.**\n",
    "* **ndarray** = block of memory + indexing scheme + data type descriptor\n",
    "    * raw data \n",
    "    * how to locate an element\n",
    "    * how to interpret an element"
   ]
  },
  {
   "cell_type": "markdown",
   "metadata": {},
   "source": [
    "<img src=\"03_pics/ndarray.png\" width=\"600\">"
   ]
  },
  {
   "cell_type": "markdown",
   "metadata": {},
   "source": [
    "Key Features of an `ndarray`:\n",
    "\n",
    "- **Homogeneous:** All elements must have the same data type.\n",
    "- **Multidimensional:** It can have any number of dimensions (1D, 2D, 3D, etc.).\n",
    "- **Fixed size:** The size of the array is determined at creation and cannot change, though you can reshape it.\n"
   ]
  },
  {
   "cell_type": "markdown",
   "metadata": {},
   "source": [
    "#### Import numpy"
   ]
  },
  {
   "cell_type": "code",
   "execution_count": 147,
   "metadata": {
    "ExecuteTime": {
     "end_time": "2023-10-17T15:46:18.202888Z",
     "start_time": "2023-10-17T15:46:18.194738Z"
    }
   },
   "outputs": [],
   "source": [
    "# np is alias \"\"(used when name of the packages are too long or coders are rightly lazy)\n",
    "import numpy as np # very common usage"
   ]
  },
  {
   "cell_type": "code",
   "execution_count": null,
   "metadata": {},
   "outputs": [],
   "source": [
    "# Simple array\n",
    "a = np.array(1, 2, 3, 4)"
   ]
  },
  {
   "cell_type": "code",
   "execution_count": null,
   "metadata": {},
   "outputs": [],
   "source": [
    "[0, 1, 2, 3, 4]"
   ]
  },
  {
   "cell_type": "code",
   "execution_count": null,
   "metadata": {
    "ExecuteTime": {
     "end_time": "2023-10-17T15:46:18.587522Z",
     "start_time": "2023-10-17T15:46:18.584025Z"
    }
   },
   "outputs": [],
   "source": [
    "# Simple array\n",
    "a = np.array([0, 1, 2, 3, 4])\n",
    "a"
   ]
  },
  {
   "cell_type": "code",
   "execution_count": null,
   "metadata": {},
   "outputs": [],
   "source": [
    "type(a)"
   ]
  },
  {
   "cell_type": "code",
   "execution_count": null,
   "metadata": {},
   "outputs": [],
   "source": [
    "a.append(5) # this will not work, numpy arrays are fixed size"
   ]
  },
  {
   "cell_type": "code",
   "execution_count": null,
   "metadata": {},
   "outputs": [],
   "source": [
    "a = np.append(a, 18) # this will work\n",
    "a"
   ]
  },
  {
   "cell_type": "code",
   "execution_count": null,
   "metadata": {},
   "outputs": [],
   "source": [
    "for i in a:\n",
    "    print(i)"
   ]
  },
  {
   "cell_type": "code",
   "execution_count": null,
   "metadata": {},
   "outputs": [],
   "source": [
    "dir(a)"
   ]
  },
  {
   "cell_type": "code",
   "execution_count": null,
   "metadata": {},
   "outputs": [],
   "source": [
    "# a.__dir__()"
   ]
  },
  {
   "cell_type": "markdown",
   "metadata": {},
   "source": [
    "- Use `dir()` to inspect an object's attributes.\n",
    "- Use `__dir__()` when you need to customize what `dir()` returns for an object."
   ]
  },
  {
   "cell_type": "markdown",
   "metadata": {},
   "source": [
    "### NumPy array"
   ]
  },
  {
   "cell_type": "code",
   "execution_count": null,
   "metadata": {},
   "outputs": [],
   "source": [
    "a"
   ]
  },
  {
   "cell_type": "code",
   "execution_count": null,
   "metadata": {},
   "outputs": [],
   "source": [
    "print(a.ndim)\n",
    "\n",
    "len(a)"
   ]
  },
  {
   "cell_type": "code",
   "execution_count": null,
   "metadata": {
    "ExecuteTime": {
     "end_time": "2023-10-17T15:46:20.031066Z",
     "start_time": "2023-10-17T15:46:20.025751Z"
    }
   },
   "outputs": [],
   "source": [
    "print(a) # prints almost like list"
   ]
  },
  {
   "cell_type": "code",
   "execution_count": null,
   "metadata": {},
   "outputs": [],
   "source": [
    "a.shape # "
   ]
  },
  {
   "cell_type": "markdown",
   "metadata": {},
   "source": [
    "An array → dimensions we address to"
   ]
  },
  {
   "cell_type": "markdown",
   "metadata": {},
   "source": [
    "<img src=\"03_pics/np-axis.png\">"
   ]
  },
  {
   "cell_type": "markdown",
   "metadata": {},
   "source": [
    "Different way to look at an array"
   ]
  },
  {
   "cell_type": "markdown",
   "metadata": {},
   "source": [
    "<img src=\"03_pics/array_construct.png\">"
   ]
  },
  {
   "cell_type": "code",
   "execution_count": null,
   "metadata": {},
   "outputs": [],
   "source": [
    "np?"
   ]
  },
  {
   "cell_type": "code",
   "execution_count": null,
   "metadata": {},
   "outputs": [],
   "source": [
    "np.array?"
   ]
  },
  {
   "cell_type": "markdown",
   "metadata": {},
   "source": [
    "**Create an ndarray:** You can create an `ndarray` from:\n",
    "\n",
    "- A Python list or nested lists (for multi-dimensional arrays).\n",
    "- Other methods like `np.zeros()`, `np.ones()`, `np.random()`, etc."
   ]
  },
  {
   "cell_type": "code",
   "execution_count": null,
   "metadata": {},
   "outputs": [],
   "source": [
    "rng = np.random.default_rng()\n",
    "rng.random((2, 3))"
   ]
  },
  {
   "cell_type": "code",
   "execution_count": null,
   "metadata": {},
   "outputs": [],
   "source": [
    "np.zeros((2, 3, 2))"
   ]
  },
  {
   "cell_type": "code",
   "execution_count": null,
   "metadata": {},
   "outputs": [],
   "source": [
    "# Simple array\n",
    "List = [2.0, 3.0, 16.9, 17.2, 1.0]\n",
    "List2 = np.array(List) # converting list to ndarray\n",
    "print(\"Elements in List2 variable are : \", List)\n",
    "print(\"Type of our List2 variable is : \", type(List2))"
   ]
  },
  {
   "cell_type": "markdown",
   "metadata": {},
   "source": [
    "## How can you define a matrix?\n",
    "\n",
    "### array of arrays?"
   ]
  },
  {
   "cell_type": "code",
   "execution_count": 177,
   "metadata": {
    "ExecuteTime": {
     "end_time": "2023-10-17T15:46:21.482479Z",
     "start_time": "2023-10-17T15:46:21.478710Z"
    }
   },
   "outputs": [],
   "source": [
    "# multi dimensional objects\n",
    "# array of array is a matrix\n",
    "a = np.array([\n",
    "    [1,3], [2,3]\n",
    "]\n",
    ")"
   ]
  },
  {
   "cell_type": "code",
   "execution_count": null,
   "metadata": {
    "ExecuteTime": {
     "end_time": "2023-10-17T15:46:22.311009Z",
     "start_time": "2023-10-17T15:46:22.306517Z"
    }
   },
   "outputs": [],
   "source": [
    "a"
   ]
  },
  {
   "cell_type": "code",
   "execution_count": null,
   "metadata": {
    "ExecuteTime": {
     "end_time": "2023-10-17T15:46:22.025355Z",
     "start_time": "2023-10-17T15:46:22.014131Z"
    }
   },
   "outputs": [],
   "source": [
    "a.shape # 2 rows, 2 columns"
   ]
  },
  {
   "cell_type": "code",
   "execution_count": 180,
   "metadata": {},
   "outputs": [],
   "source": [
    "arr = np.array([[1, 2, 3], [4, 5, 6]])"
   ]
  },
  {
   "cell_type": "code",
   "execution_count": null,
   "metadata": {},
   "outputs": [],
   "source": [
    "print(\"Array:\\n\", arr)\n",
    "print(\"Shape:\", arr.shape)    # (2, 3)\n",
    "print(\"Data type:\", arr.dtype)  # int64\n",
    "print(\"Number of dimensions:\", arr.ndim)  # 2\n",
    "print(\"Size:\", arr.size)    # 6"
   ]
  },
  {
   "cell_type": "markdown",
   "metadata": {
    "ExecuteTime": {
     "end_time": "2023-10-17T15:46:35.800503Z",
     "start_time": "2023-10-17T15:46:35.794169Z"
    }
   },
   "source": [
    "Construct array like a civilized person. (Martin Hronec's way! :)"
   ]
  },
  {
   "cell_type": "code",
   "execution_count": 73,
   "metadata": {
    "ExecuteTime": {
     "end_time": "2023-10-17T15:46:36.187018Z",
     "start_time": "2023-10-17T15:46:36.183425Z"
    }
   },
   "outputs": [],
   "source": [
    "xx = np.arange(6) # equivalent to list(range(6))"
   ]
  },
  {
   "cell_type": "code",
   "execution_count": null,
   "metadata": {},
   "outputs": [],
   "source": [
    "xx"
   ]
  },
  {
   "cell_type": "code",
   "execution_count": null,
   "metadata": {},
   "outputs": [],
   "source": [
    "xx.dtype"
   ]
  },
  {
   "cell_type": "code",
   "execution_count": null,
   "metadata": {
    "ExecuteTime": {
     "end_time": "2023-10-17T15:46:37.051817Z",
     "start_time": "2023-10-17T15:46:37.045410Z"
    }
   },
   "outputs": [],
   "source": [
    "nda = np.arange(8).reshape((2,2,2))\n",
    "nda"
   ]
  },
  {
   "cell_type": "code",
   "execution_count": null,
   "metadata": {},
   "outputs": [],
   "source": [
    "nda.shape # corresponds to the shape from initialization"
   ]
  },
  {
   "cell_type": "code",
   "execution_count": null,
   "metadata": {
    "ExecuteTime": {
     "end_time": "2023-10-17T15:46:57.931603Z",
     "start_time": "2023-10-17T15:46:57.927928Z"
    }
   },
   "outputs": [],
   "source": [
    "np.arange(10).reshape((2,6)) #is this ok?\n"
   ]
  },
  {
   "cell_type": "markdown",
   "metadata": {},
   "source": [
    "Dimensions and manipulation"
   ]
  },
  {
   "cell_type": "code",
   "execution_count": 132,
   "metadata": {},
   "outputs": [],
   "source": [
    "a = np.arange(6)"
   ]
  },
  {
   "cell_type": "code",
   "execution_count": null,
   "metadata": {},
   "outputs": [],
   "source": [
    "a"
   ]
  },
  {
   "cell_type": "code",
   "execution_count": null,
   "metadata": {},
   "outputs": [],
   "source": [
    "a.shape"
   ]
  },
  {
   "cell_type": "code",
   "execution_count": null,
   "metadata": {},
   "outputs": [],
   "source": [
    "a"
   ]
  },
  {
   "cell_type": "code",
   "execution_count": null,
   "metadata": {},
   "outputs": [],
   "source": [
    "a[np.newaxis, :]"
   ]
  },
  {
   "cell_type": "code",
   "execution_count": null,
   "metadata": {},
   "outputs": [],
   "source": [
    "a[np.newaxis, :].shape"
   ]
  },
  {
   "cell_type": "code",
   "execution_count": null,
   "metadata": {},
   "outputs": [],
   "source": [
    "a[:, np.newaxis]"
   ]
  },
  {
   "cell_type": "code",
   "execution_count": null,
   "metadata": {},
   "outputs": [],
   "source": [
    "a[:, np.newaxis].shape"
   ]
  },
  {
   "cell_type": "code",
   "execution_count": null,
   "metadata": {},
   "outputs": [],
   "source": [
    "a"
   ]
  },
  {
   "cell_type": "code",
   "execution_count": null,
   "metadata": {},
   "outputs": [],
   "source": [
    "np.expand_dims(a, axis=0).shape"
   ]
  },
  {
   "cell_type": "code",
   "execution_count": null,
   "metadata": {},
   "outputs": [],
   "source": [
    "np.expand_dims(a, axis=1).shape"
   ]
  },
  {
   "cell_type": "code",
   "execution_count": null,
   "metadata": {},
   "outputs": [],
   "source": [
    "b = np.expand_dims(a, axis=1)\n",
    "b"
   ]
  },
  {
   "cell_type": "code",
   "execution_count": null,
   "metadata": {},
   "outputs": [],
   "source": [
    "a[0]"
   ]
  },
  {
   "cell_type": "code",
   "execution_count": null,
   "metadata": {},
   "outputs": [],
   "source": [
    "b[0]"
   ]
  },
  {
   "cell_type": "code",
   "execution_count": null,
   "metadata": {},
   "outputs": [],
   "source": [
    "b[0][0]"
   ]
  },
  {
   "cell_type": "markdown",
   "metadata": {},
   "source": [
    "Different between `list` and `ndarray`"
   ]
  },
  {
   "cell_type": "code",
   "execution_count": null,
   "metadata": {},
   "outputs": [],
   "source": [
    "n = [1,2]\n",
    "m = [3,4]\n",
    "n + m"
   ]
  },
  {
   "cell_type": "code",
   "execution_count": null,
   "metadata": {},
   "outputs": [],
   "source": [
    "k = np.array([1,2])\n",
    "l = np.array([3,4])\n",
    "k + l"
   ]
  },
  {
   "cell_type": "code",
   "execution_count": null,
   "metadata": {},
   "outputs": [],
   "source": [
    "k * l.T"
   ]
  },
  {
   "cell_type": "markdown",
   "metadata": {},
   "source": [
    "## Broadcasting !!!"
   ]
  },
  {
   "cell_type": "code",
   "execution_count": null,
   "metadata": {},
   "outputs": [],
   "source": []
  },
  {
   "cell_type": "markdown",
   "metadata": {},
   "source": [
    "`NumPy` provides familiar mathematical functions such as sin, cos, and exp. In NumPy, these are called “universal functions” (ufunc). Within NumPy, these functions operate element-wise on an array, producing an array as output. (from docs)\n",
    "\n",
    "```\n",
    "all, any, apply_along_axis, argmax, argmin, argsort, average, bincount, ceil, clip, conj, corrcoef, cov, cross, cumprod, cumsum, diff, dot, floor, inner, invert, lexsort, max, maximum, mean, median, min, minimum, nonzero, outer, prod, re, round, sort, std, sum, trace, transpose, var, vdot, vectorize, where\n",
    "```\n",
    "a = np.array([1,2,3,4,5])\n",
    "np.add(a, 1) # add is summing the arrays element wise"
   ]
  },
  {
   "cell_type": "code",
   "execution_count": null,
   "metadata": {},
   "outputs": [],
   "source": [
    "a"
   ]
  },
  {
   "cell_type": "code",
   "execution_count": 137,
   "metadata": {},
   "outputs": [],
   "source": [
    "a = a + 2"
   ]
  },
  {
   "cell_type": "code",
   "execution_count": null,
   "metadata": {},
   "outputs": [],
   "source": [
    "a.all() >= 1"
   ]
  },
  {
   "cell_type": "code",
   "execution_count": null,
   "metadata": {},
   "outputs": [],
   "source": [
    "a > 3"
   ]
  },
  {
   "cell_type": "code",
   "execution_count": null,
   "metadata": {},
   "outputs": [],
   "source": [
    "a == a"
   ]
  },
  {
   "cell_type": "code",
   "execution_count": null,
   "metadata": {},
   "outputs": [],
   "source": [
    "np.all(a == a) # all elements are equal to themselves"
   ]
  },
  {
   "cell_type": "code",
   "execution_count": null,
   "metadata": {
    "ExecuteTime": {
     "end_time": "2023-10-17T15:46:58.574904Z",
     "start_time": "2023-10-17T15:46:58.568415Z"
    }
   },
   "outputs": [],
   "source": [
    "# evenly spaced\n",
    "\n",
    "# chain operations on a single object\n",
    "a = np.arange(10).reshape((2,5))\n",
    "\n",
    "print(a)\n",
    "print(a.mean())"
   ]
  },
  {
   "cell_type": "code",
   "execution_count": null,
   "metadata": {},
   "outputs": [],
   "source": [
    "np.arange(10).reshape((2,5)).mean()"
   ]
  },
  {
   "cell_type": "code",
   "execution_count": null,
   "metadata": {},
   "outputs": [],
   "source": [
    "# Built-in Functions\n",
    "x = np.arange(1, 6)\n",
    "np.sqrt(x), np.exp(x), np.log(x), np.sin(x), np.cos(x)"
   ]
  },
  {
   "cell_type": "code",
   "execution_count": null,
   "metadata": {},
   "outputs": [],
   "source": [
    "c = np.array([1, 2, 3])\n",
    "d = np.array([[1], [2], [3]])\n",
    "print(c + d)"
   ]
  },
  {
   "cell_type": "code",
   "execution_count": null,
   "metadata": {},
   "outputs": [],
   "source": [
    "a.mean(axis=0) # mean of each column"
   ]
  },
  {
   "cell_type": "code",
   "execution_count": null,
   "metadata": {},
   "outputs": [],
   "source": [
    "a.mean(axis=0)  # why axis 0?\n",
    "b = a.mean(axis=1)\n",
    "b"
   ]
  },
  {
   "cell_type": "code",
   "execution_count": null,
   "metadata": {},
   "outputs": [],
   "source": [
    "a.std(axis=1)"
   ]
  },
  {
   "cell_type": "code",
   "execution_count": null,
   "metadata": {},
   "outputs": [],
   "source": [
    "a.argmax() # what is the largest element?"
   ]
  },
  {
   "cell_type": "code",
   "execution_count": null,
   "metadata": {},
   "outputs": [],
   "source": [
    "a"
   ]
  },
  {
   "cell_type": "code",
   "execution_count": null,
   "metadata": {},
   "outputs": [],
   "source": [
    "a.cumsum()"
   ]
  },
  {
   "cell_type": "code",
   "execution_count": null,
   "metadata": {},
   "outputs": [],
   "source": [
    "a.cumprod(axis=1) #why is it useful?"
   ]
  },
  {
   "cell_type": "code",
   "execution_count": null,
   "metadata": {},
   "outputs": [],
   "source": [
    "a.shape"
   ]
  },
  {
   "cell_type": "code",
   "execution_count": null,
   "metadata": {},
   "outputs": [],
   "source": [
    "a.T.shape"
   ]
  },
  {
   "cell_type": "code",
   "execution_count": null,
   "metadata": {},
   "outputs": [],
   "source": [
    "a.shape"
   ]
  },
  {
   "cell_type": "code",
   "execution_count": null,
   "metadata": {},
   "outputs": [],
   "source": [
    "a.T.dot(a) #what is going on here?"
   ]
  },
  {
   "cell_type": "code",
   "execution_count": null,
   "metadata": {},
   "outputs": [],
   "source": [
    "a.dot(a.T) #what is going on here?"
   ]
  },
  {
   "cell_type": "code",
   "execution_count": null,
   "metadata": {},
   "outputs": [],
   "source": [
    "a"
   ]
  },
  {
   "cell_type": "code",
   "execution_count": null,
   "metadata": {},
   "outputs": [],
   "source": [
    "# bit of extra linear algebra\n",
    "\n",
    "sq = np.arange(4).reshape((1,-1))\n",
    "sq"
   ]
  },
  {
   "cell_type": "code",
   "execution_count": null,
   "metadata": {},
   "outputs": [],
   "source": [
    "np.arange(4).reshape(1,-1).shape"
   ]
  },
  {
   "cell_type": "code",
   "execution_count": null,
   "metadata": {},
   "outputs": [],
   "source": [
    "print(\"Shape:\", sq.shape)\n",
    "sq"
   ]
  },
  {
   "cell_type": "code",
   "execution_count": null,
   "metadata": {},
   "outputs": [],
   "source": [
    "x"
   ]
  },
  {
   "cell_type": "code",
   "execution_count": null,
   "metadata": {},
   "outputs": [],
   "source": [
    "sq.T.dot(sq)"
   ]
  },
  {
   "cell_type": "code",
   "execution_count": null,
   "metadata": {},
   "outputs": [],
   "source": [
    "dir(a)"
   ]
  },
  {
   "cell_type": "code",
   "execution_count": null,
   "metadata": {},
   "outputs": [],
   "source": [
    "# generate sequences\n",
    "\n",
    "# number of points from an interval\n",
    "start = 0\n",
    "end = 1\n",
    "n_points = 4\n",
    "a = np.linspace(start, end, n_points) #R: seq()\n",
    "a"
   ]
  },
  {
   "cell_type": "markdown",
   "metadata": {
    "ExecuteTime": {
     "end_time": "2023-10-17T15:47:00.823027Z",
     "start_time": "2023-10-17T15:47:00.816999Z"
    }
   },
   "source": [
    "### Why is it useful?"
   ]
  },
  {
   "cell_type": "code",
   "execution_count": null,
   "metadata": {
    "ExecuteTime": {
     "end_time": "2023-10-17T15:47:01.276551Z",
     "start_time": "2023-10-17T15:47:01.271764Z"
    }
   },
   "outputs": [],
   "source": [
    "### generating data with numpy is easy"
   ]
  },
  {
   "cell_type": "code",
   "execution_count": null,
   "metadata": {
    "ExecuteTime": {
     "end_time": "2023-10-17T15:47:02.632899Z",
     "start_time": "2023-10-17T15:47:02.619576Z"
    }
   },
   "outputs": [],
   "source": [
    "dir(np.random)"
   ]
  },
  {
   "cell_type": "code",
   "execution_count": null,
   "metadata": {},
   "outputs": [],
   "source": [
    "np.random?"
   ]
  },
  {
   "cell_type": "code",
   "execution_count": null,
   "metadata": {},
   "outputs": [],
   "source": [
    "# random seed is cell-specific! \n",
    "np.random.seed(1234)\n",
    "\n",
    "# random (normal)\n",
    "r = np.random.randn(4)\n",
    "r"
   ]
  },
  {
   "cell_type": "code",
   "execution_count": null,
   "metadata": {},
   "outputs": [],
   "source": [
    "np.random.rand(4) #re-running this yields different result -> seed is not in play"
   ]
  },
  {
   "cell_type": "code",
   "execution_count": null,
   "metadata": {},
   "outputs": [],
   "source": [
    "np.random.standard_t(4, 4) #t-distribution"
   ]
  },
  {
   "cell_type": "code",
   "execution_count": null,
   "metadata": {},
   "outputs": [],
   "source": [
    "np.random.uniform(10, 11, 4) #uniform distribution"
   ]
  },
  {
   "cell_type": "code",
   "execution_count": null,
   "metadata": {},
   "outputs": [],
   "source": [
    "np.linspace(0, 1, 10) #uniform distribution\n",
    "np.random.randn(10) #normal distribution\n",
    "\n",
    "import seaborn as sns\n",
    "\n",
    "# plot the data\n",
    "sns.histplot(np.random.randn(1000), kde=True)"
   ]
  },
  {
   "cell_type": "markdown",
   "metadata": {},
   "source": [
    "# A crucial skill"
   ]
  },
  {
   "cell_type": "markdown",
   "metadata": {
    "ExecuteTime": {
     "end_time": "2023-10-17T15:47:04.290587Z",
     "start_time": "2023-10-17T15:47:04.284221Z"
    }
   },
   "source": [
    "### Indexing and Slicing\n",
    "* In 2D, the first dimension corresponds to rows, the second to columns.\n",
    "* in the multidimensional case, `a[0]` gives all elements in the unspecified dimension"
   ]
  },
  {
   "cell_type": "markdown",
   "metadata": {},
   "source": [
    "<img src=\"03_pics/indexing.png\">"
   ]
  },
  {
   "cell_type": "code",
   "execution_count": 244,
   "metadata": {},
   "outputs": [],
   "source": [
    "a = np.arange(24).reshape((3,2,4))"
   ]
  },
  {
   "cell_type": "markdown",
   "metadata": {},
   "source": [
    "<img src=\"03_pics/array_construct.png\">"
   ]
  },
  {
   "cell_type": "code",
   "execution_count": null,
   "metadata": {},
   "outputs": [],
   "source": [
    "a[0]"
   ]
  },
  {
   "cell_type": "code",
   "execution_count": null,
   "metadata": {},
   "outputs": [],
   "source": [
    "a[0,:,:]"
   ]
  },
  {
   "cell_type": "code",
   "execution_count": null,
   "metadata": {},
   "outputs": [],
   "source": [
    "a[0,0,:]"
   ]
  },
  {
   "cell_type": "code",
   "execution_count": null,
   "metadata": {},
   "outputs": [],
   "source": [
    "a[0,:,2:3]"
   ]
  },
  {
   "cell_type": "code",
   "execution_count": null,
   "metadata": {},
   "outputs": [],
   "source": []
  },
  {
   "cell_type": "code",
   "execution_count": null,
   "metadata": {
    "ExecuteTime": {
     "end_time": "2023-10-17T15:47:04.733361Z",
     "start_time": "2023-10-17T15:47:04.726517Z"
    }
   },
   "outputs": [],
   "source": [
    "# create toy diagonal matrix\n",
    "a = np.diag([1,2,3,4])\n",
    "a"
   ]
  },
  {
   "cell_type": "code",
   "execution_count": null,
   "metadata": {},
   "outputs": [],
   "source": [
    "a > 0"
   ]
  },
  {
   "cell_type": "code",
   "execution_count": null,
   "metadata": {},
   "outputs": [],
   "source": [
    "a"
   ]
  },
  {
   "cell_type": "markdown",
   "metadata": {},
   "source": [
    "Indexing and Slicing:"
   ]
  },
  {
   "cell_type": "code",
   "execution_count": null,
   "metadata": {
    "ExecuteTime": {
     "end_time": "2023-10-17T15:47:05.043441Z",
     "start_time": "2023-10-17T15:47:05.040094Z"
    }
   },
   "outputs": [],
   "source": [
    "# print(a[2]) \n",
    "\n",
    "# print(a[2,:]) #slicing - equivalent to first\n",
    "\n",
    "# print(a[2][2]) #access single element matrix\n",
    "# print(a[2,2])\n",
    "\n",
    "# print(a[:,1])\n",
    "\n",
    "print(a[:,-2:])"
   ]
  },
  {
   "cell_type": "code",
   "execution_count": null,
   "metadata": {},
   "outputs": [],
   "source": [
    "a"
   ]
  },
  {
   "cell_type": "code",
   "execution_count": null,
   "metadata": {
    "ExecuteTime": {
     "end_time": "2023-10-17T15:47:05.426887Z",
     "start_time": "2023-10-17T15:47:05.424302Z"
    }
   },
   "outputs": [],
   "source": [
    "a[0:4:1] # by default going by axis 0"
   ]
  },
  {
   "cell_type": "code",
   "execution_count": null,
   "metadata": {},
   "outputs": [],
   "source": [
    "a[:,0:3:2] # by now going by axis 1 - notice the :, at beginning"
   ]
  },
  {
   "cell_type": "code",
   "execution_count": null,
   "metadata": {
    "ExecuteTime": {
     "end_time": "2023-10-17T15:47:05.808079Z",
     "start_time": "2023-10-17T15:47:05.800217Z"
    }
   },
   "outputs": [],
   "source": [
    "# select from start to an end with certain step (could be zero instead of missing)\n",
    "# advanced tricks\n",
    "\n",
    "a[:3:2,:3:2] #step n is every n-th observation"
   ]
  },
  {
   "cell_type": "code",
   "execution_count": null,
   "metadata": {},
   "outputs": [],
   "source": [
    "s = np.arange(100)\n",
    "print(s)"
   ]
  },
  {
   "cell_type": "code",
   "execution_count": null,
   "metadata": {},
   "outputs": [],
   "source": [
    "# step can also be negative\n",
    "# start:end:step\n",
    "print(s[:80:-3])"
   ]
  },
  {
   "cell_type": "markdown",
   "metadata": {},
   "source": [
    "The sliced array `s[:80:-3]` results in `[99, 96, 93, 90, 87, 84, 81]`. \n",
    "This array is generated by starting from the end of s (since the start index is omitted and step is negative, it defaults to the last item, which is 99), and includes every third element in reverse order until just before it reaches the index 80."
   ]
  },
  {
   "cell_type": "markdown",
   "metadata": {
    "ExecuteTime": {
     "end_time": "2023-10-17T15:47:06.957485Z",
     "start_time": "2023-10-17T15:47:06.952648Z"
    }
   },
   "source": [
    "**Copies vs. views**\n",
    "* a slicing creates a **view** on the original array (just a way of accessing array data)\n",
    "    * the original array is not copied in memory\n",
    "* when modifying the view, the original array is modified as well! (SURPRISE, SURPRISE)\n",
    "    * allows to save memory and time\n",
    "* In CS it is called **shallow copy** vs **deep copy**"
   ]
  },
  {
   "cell_type": "code",
   "execution_count": null,
   "metadata": {},
   "outputs": [],
   "source": [
    "a = [10]\n",
    "b = a.copy()\n",
    "print(id(a), id(b))\n",
    "\n",
    "print(a, b)\n",
    "a[0] = 5\n",
    "print(a, b)\n",
    "print(id(a), id(b))"
   ]
  },
  {
   "cell_type": "code",
   "execution_count": null,
   "metadata": {
    "ExecuteTime": {
     "end_time": "2023-10-17T15:47:07.484979Z",
     "start_time": "2023-10-17T15:47:07.473923Z"
    }
   },
   "outputs": [],
   "source": [
    "a = np.arange(10)\n",
    "print(a)\n",
    "b = a \n",
    "b[2] = 22\n",
    "\n",
    "# #print(a.data, b.data)\n",
    "\n",
    "print(a)\n",
    "print(b) # a anb b are the same??"
   ]
  },
  {
   "cell_type": "code",
   "execution_count": null,
   "metadata": {},
   "outputs": [],
   "source": [
    "print(np.may_share_memory(a, b)) #"
   ]
  },
  {
   "cell_type": "code",
   "execution_count": null,
   "metadata": {
    "scrolled": true
   },
   "outputs": [],
   "source": [
    "a = np.arange(10)\n",
    "c = a.copy()  # force a copy -> create new memory\n",
    "c[0] = 12\n",
    "print(c)\n",
    "print(a)\n",
    "\n",
    "print(np.may_share_memory(a, c))\n",
    "#print(a.data, c.data)"
   ]
  },
  {
   "cell_type": "markdown",
   "metadata": {},
   "source": [
    "### Typical mistake in pandas slicing dataframes → stay tuned for next lecture!\n",
    "\n",
    "SettingWithCopyWarning:\n",
    " \n",
    "A value is trying to be set on a copy of a slice from a DataFrame.\n",
    "\n",
    "Try using .loc[row_indexer,col_indexer] = value instead"
   ]
  },
  {
   "cell_type": "markdown",
   "metadata": {
    "ExecuteTime": {
     "end_time": "2023-10-17T15:47:09.594209Z",
     "start_time": "2023-10-17T15:47:09.583445Z"
    }
   },
   "source": [
    "**Speed of basic numpy operations**\n",
    "   * much faster than in pure python"
   ]
  },
  {
   "cell_type": "code",
   "execution_count": null,
   "metadata": {
    "ExecuteTime": {
     "end_time": "2023-10-17T15:47:11.846163Z",
     "start_time": "2023-10-17T15:47:11.714859Z"
    }
   },
   "outputs": [],
   "source": [
    "# if unsure about an algo\n",
    "# run on a small sample and get a time estimate! before run for days...\n",
    "a = np.arange(10000)\n",
    "%timeit -n 100 a + 1\n",
    "\n",
    "#caching results is good!"
   ]
  },
  {
   "cell_type": "code",
   "execution_count": null,
   "metadata": {
    "ExecuteTime": {
     "end_time": "2023-10-17T15:47:12.019694Z",
     "start_time": "2023-10-17T15:47:12.016989Z"
    }
   },
   "outputs": [],
   "source": [
    "l = range(10000)\n",
    "%timeit -n 100 [i+1 for i in l] "
   ]
  },
  {
   "cell_type": "code",
   "execution_count": null,
   "metadata": {
    "ExecuteTime": {
     "end_time": "2023-10-17T15:47:25.202391Z",
     "start_time": "2023-10-17T15:47:12.447288Z"
    }
   },
   "outputs": [],
   "source": [
    "# remember the difference between %time and %timeit\n",
    "# timeit runs a number of loops\n",
    "# time times just one evaluation of the cell\n",
    "\n",
    "%time res = [i+1 for i in a]"
   ]
  },
  {
   "cell_type": "code",
   "execution_count": null,
   "metadata": {},
   "outputs": [],
   "source": [
    "%timeit res =  a + 1 "
   ]
  },
  {
   "cell_type": "markdown",
   "metadata": {
    "ExecuteTime": {
     "end_time": "2023-10-17T15:47:32.925562Z",
     "start_time": "2023-10-17T15:47:32.918825Z"
    }
   },
   "source": [
    "**Changing shape of an array**\n",
    "* flattening\n",
    "* reshaping (inverse of flattening)"
   ]
  },
  {
   "cell_type": "code",
   "execution_count": null,
   "metadata": {
    "ExecuteTime": {
     "end_time": "2023-10-17T15:47:33.311619Z",
     "start_time": "2023-10-17T15:47:33.308017Z"
    }
   },
   "outputs": [],
   "source": [
    "a = np.array([[1, 2, 3], [4, 5, 6]])\n",
    "a"
   ]
  },
  {
   "cell_type": "code",
   "execution_count": null,
   "metadata": {
    "ExecuteTime": {
     "end_time": "2023-10-17T15:47:33.807336Z",
     "start_time": "2023-10-17T15:47:33.799712Z"
    }
   },
   "outputs": [],
   "source": [
    "# flattening\n",
    "print(a.flatten())\n"
   ]
  },
  {
   "cell_type": "code",
   "execution_count": null,
   "metadata": {
    "ExecuteTime": {
     "end_time": "2023-10-17T15:47:34.371751Z",
     "start_time": "2023-10-17T15:47:34.365965Z"
    }
   },
   "outputs": [],
   "source": [
    "print(a.shape)\n",
    "a.T"
   ]
  },
  {
   "cell_type": "code",
   "execution_count": null,
   "metadata": {
    "ExecuteTime": {
     "end_time": "2023-10-17T15:47:34.552945Z",
     "start_time": "2023-10-17T15:47:34.550027Z"
    }
   },
   "outputs": [],
   "source": [
    "a.T.flatten() #or use flatten/ravel order='F' in Fortran column-wise order"
   ]
  },
  {
   "cell_type": "code",
   "execution_count": null,
   "metadata": {
    "ExecuteTime": {
     "end_time": "2023-10-17T15:47:35.027524Z",
     "start_time": "2023-10-17T15:47:35.007257Z"
    }
   },
   "outputs": [],
   "source": [
    "a.T.flatten(order='F')"
   ]
  },
  {
   "cell_type": "code",
   "execution_count": null,
   "metadata": {},
   "outputs": [],
   "source": [
    "a.T.flatten(order='C')"
   ]
  },
  {
   "cell_type": "code",
   "execution_count": null,
   "metadata": {},
   "outputs": [],
   "source": [
    "np.exp(a) # a bit like R - vectorized operations (broadcasted)"
   ]
  },
  {
   "cell_type": "markdown",
   "metadata": {
    "ExecuteTime": {
     "end_time": "2023-10-17T15:47:36.872659Z",
     "start_time": "2023-10-17T15:47:35.846345Z"
    }
   },
   "source": [
    "**Pictures? Just pixels.**"
   ]
  },
  {
   "cell_type": "code",
   "execution_count": 269,
   "metadata": {
    "ExecuteTime": {
     "end_time": "2023-10-17T15:48:24.337913Z",
     "start_time": "2023-10-17T15:48:24.321652Z"
    }
   },
   "outputs": [],
   "source": [
    "# we will get to the matplotlib and pyplot in the last part of the lecture\n",
    "import matplotlib.pyplot as plt\n",
    "# another ipython magic\n",
    "%matplotlib inline"
   ]
  },
  {
   "cell_type": "code",
   "execution_count": null,
   "metadata": {},
   "outputs": [],
   "source": [
    "# for more M.C. Escher's pictures: https://www.mcescher.com/\n",
    "# import matplotlib.pyplot as plt\n",
    "\n",
    "img = plt.imread(\"03_pics/mc_escher_print gallery.png\")\n",
    "plt.imshow(img, interpolation=\"nearest\", aspect=\"auto\")\n",
    "# plt.axis('off')"
   ]
  },
  {
   "cell_type": "code",
   "execution_count": null,
   "metadata": {},
   "outputs": [],
   "source": [
    "type(img)"
   ]
  },
  {
   "cell_type": "code",
   "execution_count": null,
   "metadata": {},
   "outputs": [],
   "source": [
    "img"
   ]
  },
  {
   "cell_type": "code",
   "execution_count": null,
   "metadata": {},
   "outputs": [],
   "source": [
    "# image shape as (H, W, D), depth: https://www.wikiwand.com/en/Color_depth\n",
    "img.shape"
   ]
  },
  {
   "cell_type": "code",
   "execution_count": null,
   "metadata": {},
   "outputs": [],
   "source": [
    "# just an array! \n",
    "img[:,:,0].all() == img[:,:,1].all()"
   ]
  },
  {
   "cell_type": "code",
   "execution_count": 277,
   "metadata": {
    "ExecuteTime": {
     "end_time": "2023-10-17T15:47:37.218409Z",
     "start_time": "2023-10-17T15:47:37.208453Z"
    }
   },
   "outputs": [],
   "source": [
    "self_centered = img[200:,200:500]"
   ]
  },
  {
   "cell_type": "code",
   "execution_count": null,
   "metadata": {
    "ExecuteTime": {
     "end_time": "2023-10-17T15:47:37.386863Z",
     "start_time": "2023-10-17T15:47:37.384761Z"
    }
   },
   "outputs": [],
   "source": [
    "plt.imshow(self_centered)"
   ]
  },
  {
   "cell_type": "code",
   "execution_count": null,
   "metadata": {
    "ExecuteTime": {
     "end_time": "2023-10-17T15:47:37.808573Z",
     "start_time": "2023-10-17T15:47:37.805072Z"
    }
   },
   "outputs": [],
   "source": [
    "lx, ly, ld = img.shape\n",
    "X, Y = np.ogrid[0:lx, 0:ly]\n",
    "mask = (X - lx / 2) ** 2 + (Y - ly / 2) ** 2 > lx * ly / 4\n",
    "img[mask] = 0\n",
    "\n",
    "plt.figure(figsize=(4, 4))\n",
    "plt.axes([0, 0, 1, 1])\n",
    "plt.imshow(img, cmap=plt.cm.gray)"
   ]
  },
  {
   "cell_type": "code",
   "execution_count": null,
   "metadata": {
    "ExecuteTime": {
     "end_time": "2023-10-17T15:52:31.897152Z",
     "start_time": "2023-10-17T15:52:31.879555Z"
    }
   },
   "outputs": [],
   "source": [
    "# Element-wise operations\n",
    "array1 = np.array([1, 2, 3])\n",
    "array2 = np.array([4, 5, 6])\n",
    "\n",
    "# Addition\n",
    "sum_arrays = array1 + array2\n",
    "\n",
    "# Multiplication\n",
    "product_arrays = array1 * array2\n",
    "\n",
    "sum_arrays, product_arrays"
   ]
  },
  {
   "cell_type": "markdown",
   "metadata": {},
   "source": [
    "# Other topics"
   ]
  },
  {
   "cell_type": "code",
   "execution_count": null,
   "metadata": {
    "ExecuteTime": {
     "end_time": "2023-10-17T15:52:32.138674Z",
     "start_time": "2023-10-17T15:52:32.128113Z"
    }
   },
   "outputs": [],
   "source": [
    "\n",
    "# Joining arrays\n",
    "array1 = np.array([1, 2, 3])\n",
    "array2 = np.array([4, 5, 6])\n",
    "joined_array = np.concatenate((array1, array2)) #concat is a general concept\n",
    "\n",
    "# Splitting arrays\n",
    "split_arrays = np.split(joined_array, 2)\n",
    "#from docs:\n",
    "# If indices_or_sections is an integer, N, the array will be divided into N equal arrays along axis. If such a split is not possible, an error is raised\n",
    "# If indices_or_sections is a 1-D array of sorted integers, the entries indicate where along axis the array is split. For example, [2, 3] would, for axis=0, result in\n",
    "    # ary[:2]\n",
    "    # ary[2:3]\n",
    "    # ary[3:]\n",
    "\n",
    "joined_array, split_arrays"
   ]
  },
  {
   "cell_type": "code",
   "execution_count": null,
   "metadata": {},
   "outputs": [],
   "source": [
    "#other operations\n",
    "print(array1.sum())\n",
    "#2d array ->\n",
    "print(array1.argmax())\n",
    "print(array1.mean())"
   ]
  },
  {
   "cell_type": "markdown",
   "metadata": {},
   "source": [
    "### Vectorize function"
   ]
  },
  {
   "cell_type": "markdown",
   "metadata": {},
   "source": [
    "Function that computes `f(x)=x^2 + 2x + 1` and apply it element-wise to a NumPy array using `np.vectorize()`."
   ]
  },
  {
   "cell_type": "code",
   "execution_count": null,
   "metadata": {},
   "outputs": [],
   "source": [
    "def poly_fun(x):\n",
    "    return x**2 + 2*x + 1\n",
    "\n",
    "vectorized_func = np.vectorize(poly_fun) # vectorize the function\n",
    "arr = np.arange(-5, 6) # array from -5 to 5\n",
    "\n",
    "print(\"Original array:\", arr)\n",
    "print(\"Transformed array:\", vectorized_func(arr))"
   ]
  },
  {
   "cell_type": "code",
   "execution_count": null,
   "metadata": {},
   "outputs": [],
   "source": [
    "%timeit poly_fun(arr)"
   ]
  },
  {
   "cell_type": "code",
   "execution_count": null,
   "metadata": {},
   "outputs": [],
   "source": [
    "%timeit vectorized_func(arr)"
   ]
  },
  {
   "cell_type": "code",
   "execution_count": null,
   "metadata": {},
   "outputs": [],
   "source": [
    "poly_fun([-5, -4, -3, -2, -1, 0, 1, 2, 3, 4, 5]) # this is not vectorized"
   ]
  },
  {
   "cell_type": "code",
   "execution_count": null,
   "metadata": {},
   "outputs": [],
   "source": [
    "vectorized_func([-5, -4, -3, -2, -1, 0, 1, 2, 3, 4, 5])"
   ]
  },
  {
   "cell_type": "markdown",
   "metadata": {},
   "source": [
    "### Simulate Random walk"
   ]
  },
  {
   "cell_type": "code",
   "execution_count": null,
   "metadata": {},
   "outputs": [],
   "source": [
    "import matplotlib.pyplot as plt\n",
    "\n",
    "steps = np.random.choice([-1, 1], size=300) # random steps\n",
    "position = np.cumsum(steps) # cumulative sum of the steps\n",
    "\n",
    "plt.plot(position)\n",
    "plt.title(\"1D Random Walk\")\n",
    "plt.xlabel(\"Step\")\n",
    "plt.ylabel(\"Position\")\n",
    "plt.show()"
   ]
  },
  {
   "cell_type": "markdown",
   "metadata": {},
   "source": [
    "### Play with matrices"
   ]
  },
  {
   "cell_type": "code",
   "execution_count": null,
   "metadata": {},
   "outputs": [],
   "source": [
    "A = np.random.randint(1, 10, (3, 3))\n",
    "B = np.random.randint(1, 10, (3, 3))\n",
    "\n",
    "C = np.dot(A, B) # matrix multiplication\n",
    "inv_A = np.linalg.inv(A) # matrix inverse\n",
    "det_A = np.linalg.det(A) # matrix determinant\n",
    "eigenvalues, eigenvectors = np.linalg.eig(A) # matrix eigenvalues and eigenvectors\n",
    "\n",
    "print(\"Matrix A:\\n\", A)\n",
    "print(\"Matrix B:\\n\", B)\n",
    "print(\"Matrix Multiplication A * B:\\n\", C)\n",
    "print(\"Inverse of A:\\n\", inv_A)\n",
    "print(\"Determinant of A:\", det_A)\n",
    "print(\"Eigenvalues of A:\", eigenvalues)\n",
    "print(\"Eigenvectors of A:\\n\", eigenvectors)"
   ]
  },
  {
   "cell_type": "code",
   "execution_count": null,
   "metadata": {},
   "outputs": [],
   "source": []
  }
 ],
 "metadata": {
  "kernelspec": {
   "display_name": "Python 3 (ipykernel)",
   "language": "python",
   "name": "python3"
  },
  "language_info": {
   "codemirror_mode": {
    "name": "ipython",
    "version": 3
   },
   "file_extension": ".py",
   "mimetype": "text/x-python",
   "name": "python",
   "nbconvert_exporter": "python",
   "pygments_lexer": "ipython3",
   "version": "3.12.9"
  }
 },
 "nbformat": 4,
 "nbformat_minor": 4
}
